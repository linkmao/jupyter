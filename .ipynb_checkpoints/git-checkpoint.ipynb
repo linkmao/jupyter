{
 "cells": [
  {
   "cell_type": "markdown",
   "id": "ed6b03ba-6a93-47b2-9893-232bb572042d",
   "metadata": {},
   "source": [
    "# Git Generalidades\n",
    "## Uso de Git y comandos básicos\n",
    "### Descripción\n",
    "Git es un pequeño programa que permite hacer gestion en el versinado y el control de cambios asociados al avance de los proyectos de código."
   ]
  },
  {
   "cell_type": "markdown",
   "id": "73079076-16b5-4beb-ba5f-693099872f9f",
   "metadata": {
    "jp-MarkdownHeadingCollapsed": true
   },
   "source": [
    "## Gestión de los commit\n",
    "\n",
    "### Iniciar una carpeta como proyecto git\n",
    "```\n",
    "git init\n",
    "```\n",
    "\n",
    "### Agregar archivos a un commit\n",
    "```\n",
    "git add .\n",
    "```\n",
    "\n",
    "### Hacer commit\n",
    "```\n",
    "git commit -m \"mensaje\"\n",
    "```\n",
    "\n",
    "### Listar los commit\n",
    "```\n",
    "git log\n",
    "git log --oneline  (lista los commit en una linea y resumidos) \n",
    "```"
   ]
  },
  {
   "cell_type": "markdown",
   "id": "b0bf50a0-c892-4ecd-a342-ab39b7fc31d6",
   "metadata": {},
   "source": [
    "## Gestión de las ramas\n",
    "\n",
    "### Listar las ramas\n",
    "```\n",
    "git branch\n",
    "```\n",
    "### Crear una rama nueva\n",
    "```\n",
    "git brach <name-branch>\n",
    "```\n",
    "\n",
    "### Renombrar rama actual\n",
    "```\n",
    " git branch -M <new-name>\n",
    "```\n",
    "\n",
    "### Moverse entre ramas\n",
    "```\n",
    "git checkout <name-brach>\n",
    "```"
   ]
  },
  {
   "cell_type": "markdown",
   "id": "268215c8-01ed-4ca7-9876-5c77f142c977",
   "metadata": {
    "jp-MarkdownHeadingCollapsed": true
   },
   "source": [
    "## Gestion repositorio local y remoto\n",
    "\n",
    "### Listar variables de remote\n",
    "```\n",
    " git remote\n",
    "```\n",
    "\n",
    "### Agregar origin para remote\n",
    "```\n",
    " git remote add origin <url-repo>\n",
    "```\n",
    "### Hacer push a la url en origin de una rama\n",
    "```\n",
    "git push -u origin <rama>\n",
    "```\n",
    "### Clonar un proyecto\n",
    "```\n",
    "git clone [github-url]\n",
    "```\n",
    "\n",
    "### Actualizar los cambios hechos en repo remoto a local\n",
    "Previamente el proyecto ya debe estar importado, esto se entiende por ejemplo cuando de manera colaborativa otra persona del proyecto modificó el repositorio remoto (en git-hub) entonces para tener la version actualizada (sin necesidad de clonar todo el proyecto del incio) simplemente se hace un pull y el proyecto queda actualizado en local.\n",
    "```\n",
    "git pull\n",
    "```"
   ]
  }
 ],
 "metadata": {
  "kernelspec": {
   "display_name": "JavaScript (Node.js)",
   "language": "javascript",
   "name": "javascript"
  },
  "language_info": {
   "file_extension": ".js",
   "mimetype": "application/javascript",
   "name": "javascript",
   "version": "16.20.2"
  }
 },
 "nbformat": 4,
 "nbformat_minor": 5
}
