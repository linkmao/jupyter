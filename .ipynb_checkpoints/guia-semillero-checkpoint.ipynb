{
 "cells": [
  {
   "cell_type": "markdown",
   "id": "5221979b-3896-444e-b4cf-e844d6eab6a6",
   "metadata": {},
   "source": [
    "# Guia pedagogica para el diseño de una rest api\n",
    "\n",
    "En este documento estaré escribiendo unas lineas que permitirá llevar un curso nive medio avanzado de node, js y otras herramientas en un posible semillero de programacion"
   ]
  },
  {
   "cell_type": "markdown",
   "id": "dca00b51-b7cb-4a43-8e89-499ccf6e68f0",
   "metadata": {},
   "source": [
    "## Algunos pasos\n",
    "\n",
    "1. Explicacion de la arquitectura de uan rest api\n",
    "2. Herramientas que se usan\n",
    "- node\n",
    "- express como dependencia de node\n",
    "- mongo\n",
    "- postman\n",
    "- git and github\n",
    "- vscode\n",
    "- otras dependencias de node\n",
    "3. Inicio del proyecto (npm init)\n",
    "4. Hola mundo\n",
    "5. Estructura de un JSON\n",
    "6. instalacion de dependencias Carpeta node modeules and package.json\n",
    "7. importacion de dependencias 'require'\n",
    "8. Funciones anonimas\n",
    "\n",
    "\n",
    "  \n",
    "   "
   ]
  },
  {
   "cell_type": "code",
   "execution_count": null,
   "id": "168afb95-832d-4015-8c26-3d3dca7844b6",
   "metadata": {},
   "outputs": [],
   "source": []
  }
 ],
 "metadata": {
  "kernelspec": {
   "display_name": "JavaScript (Node.js)",
   "language": "javascript",
   "name": "javascript"
  },
  "language_info": {
   "name": ""
  }
 },
 "nbformat": 4,
 "nbformat_minor": 5
}
