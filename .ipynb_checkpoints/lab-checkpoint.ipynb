{
 "cells": [
  {
   "cell_type": "markdown",
   "id": "746c847b-e5f2-4594-a52c-28b09bf3035d",
   "metadata": {},
   "source": [
    "<div style=\"color:red; background:yellow\">HOLA MUNDO </div>"
   ]
  },
  {
   "cell_type": "markdown",
   "id": "9a2dfab2-8259-4166-bd25-931df22840dc",
   "metadata": {},
   "source": [
    "## Container"
   ]
  },
  {
   "cell_type": "markdown",
   "id": "ca66a8ce-50b4-40b2-a05b-b54e136a6f27",
   "metadata": {},
   "source": [
    "<body className=\"container flex justify-center h-screen items-center\" >\n",
    "\n",
    "flex: los elementos que contiene se ponen del mismo tamaño y esos elementos se ajsutan al contenido que tenga\n",
    "h-screen: toma como altura la altura de la pantalla\n",
    "justify-center: Los elemntos se centran horizontalmente en el contenedor\n",
    "items-center: Los elementos los centra verticalmente en el contenedor\n",
    "\n",
    "flex: pone un elemnto al lado de otro??? eso es\n",
    "justify-between: separa los elemntos horizontalmente uniformente\n",
    "\n",
    "\n",
    "\n",
    "Textos\n",
    "\n",
    "<p  className=\"font-bold\">Negrilla</p>\n",
    "<p  className=\"text-black\">Texto negro o del color que se elija</p>\n",
    "<p  className=\"text-3xl\">Tamaño del texto 3L</p>\n",
    "\n",
    "\n",
    "rounded-full: hace los elementos circulares\n",
    "\n"
   ]
  }
 ],
 "metadata": {
  "kernelspec": {
   "display_name": "JavaScript (Node.js)",
   "language": "javascript",
   "name": "javascript"
  },
  "language_info": {
   "file_extension": ".js",
   "mimetype": "application/javascript",
   "name": "javascript",
   "version": "18.13.0"
  }
 },
 "nbformat": 4,
 "nbformat_minor": 5
}
