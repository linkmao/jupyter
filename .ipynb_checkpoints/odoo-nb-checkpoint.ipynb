{
 "cells": [
  {
   "cell_type": "markdown",
   "id": "89363f35-cf45-40f0-a722-5d38548d7d07",
   "metadata": {},
   "source": [
    "# Odoo\n",
    "Este es un ERP que tiene la funcionalidad de integrar modulos que tienen un enfoque empresarial, es decir cuya aplicación principal es el de la gestión de las tareas, procesos y demás de una empresa, por ejemplo inventarios, personal, agenda, comunicaicones, pagian web etc\n",
    "\n",
    "En general Odoo es open source sin embargo se tiene tambien una versión de pago que usa los recuros del servidor de odoo ya que este se instala allí\n",
    "\n",
    "## Como obtener Odoo\n",
    "- Abriendo una cuenta en la página de Odoo (es de pago pero te ofrecen 15 dias gratis de pruebs)\n",
    "- Instalando Odoo en una VPS\n",
    "\n",
    "## Filosofia de Odoo\n",
    "Odoo basicamenta trabaja con módulos, los cuales se van instalando segun las necesidades (esto es similiar a lo que se hace con moodle por ejemplo)\n",
    "\n"
   ]
  },
  {
   "cell_type": "markdown",
   "id": "0e7e9f9d-0d67-4849-a33d-7403083515ae",
   "metadata": {},
   "source": [
    "## Recursos\n",
    "[Video Fazt](https://www.youtube.com/watch?v=jzpp-sLP-gI)\n",
    "\n",
    "\n"
   ]
  }
 ],
 "metadata": {
  "kernelspec": {
   "display_name": "",
   "name": ""
  },
  "language_info": {
   "name": ""
  }
 },
 "nbformat": 4,
 "nbformat_minor": 5
}
