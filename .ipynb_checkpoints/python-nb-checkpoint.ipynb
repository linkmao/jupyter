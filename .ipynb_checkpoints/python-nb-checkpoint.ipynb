{
 "cells": [
  {
   "cell_type": "markdown",
   "id": "7121ddb8-a1a0-45a4-80f8-4ea524b0acaf",
   "metadata": {},
   "source": [
    "# Curso básico de Python\n",
    "Este son los apuntes del curso básico de python, desarrollado por la Univeridad Catolica de Chile y alijado en [Coursera](https://www.coursera.org/?irclickid=QWeXMiV4kxyPTbiz--TeDyPNUkHypdQedzMq0Y0&irgwc=1&utm_medium=partners&utm_source=impact&utm_campaign=3441131&utm_content=b2c)\n",
    "Curso desarrollado en marzo de 2024.\n"
   ]
  },
  {
   "cell_type": "markdown",
   "id": "59a3127e-be65-4e58-a32d-9760190fb3e8",
   "metadata": {},
   "source": [
    "## Tipo de datos\n",
    "\n",
    "**Tipos de datos primitivos**\n",
    "\n",
    "int: enteros\n",
    "\n",
    "float: numeros reales\n",
    "\n",
    "str: Cadenas de caractetes\n",
    "\n",
    "bool: Booleano\n",
    "\n",
    "con type(val) Python nos muestra el tipo de dato"
   ]
  },
  {
   "cell_type": "code",
   "execution_count": 1,
   "id": "6d80a79f-fe53-4fe2-939c-07b237cdfa22",
   "metadata": {},
   "outputs": [
    {
     "data": {
      "text/plain": [
       "int"
      ]
     },
     "execution_count": 1,
     "metadata": {},
     "output_type": "execute_result"
    }
   ],
   "source": [
    "type(42)\n"
   ]
  },
  {
   "cell_type": "code",
   "execution_count": 2,
   "id": "31fd6eca-9e85-445c-b6b1-41684f80c98b",
   "metadata": {},
   "outputs": [
    {
     "data": {
      "text/plain": [
       "str"
      ]
     },
     "execution_count": 2,
     "metadata": {},
     "output_type": "execute_result"
    }
   ],
   "source": [
    "type(65.0)"
   ]
  },
  {
   "cell_type": "code",
   "execution_count": 3,
   "id": "16f9990f-a4f2-4416-afea-f7ced955e491",
   "metadata": {},
   "outputs": [
    {
     "data": {
      "text/plain": [
       "str"
      ]
     },
     "execution_count": 3,
     "metadata": {},
     "output_type": "execute_result"
    }
   ],
   "source": [
    "type(\"Hello worl\")"
   ]
  },
  {
   "cell_type": "code",
   "execution_count": 6,
   "id": "ca17c74d-c5e0-4fa8-83f9-328d6929fdc0",
   "metadata": {},
   "outputs": [
    {
     "data": {
      "text/plain": [
       "bool"
      ]
     },
     "execution_count": 6,
     "metadata": {},
     "output_type": "execute_result"
    }
   ],
   "source": [
    "type(3>0)"
   ]
  },
  {
   "cell_type": "code",
   "execution_count": 9,
   "id": "66b5b98a-b2e7-439f-b608-61d90f3a9653",
   "metadata": {},
   "outputs": [
    {
     "data": {
      "text/plain": [
       "list"
      ]
     },
     "execution_count": 9,
     "metadata": {},
     "output_type": "execute_result"
    }
   ],
   "source": [
    "x=[2,4]\n",
    "type(x)"
   ]
  },
  {
   "cell_type": "markdown",
   "id": "e6b9eb11-eff7-4723-9b28-bed00026830b",
   "metadata": {},
   "source": [
    "## Operadores básicos y expresiones\n",
    "Con los opertadores es posible realizar operaciones aritmeticas y lógicas entre tipos de datos, entre ellos tenemos\n",
    "- **Operaciones básicas:** La suma, resta multiplicacion y división se realizan con los simbolos habituales\n",
    "- **POtenciación:** Con el simbolo **  ejemplo 2**3\n",
    "- **División entera:** con el simbolo // se obtiene el resulatdo entero de una división ejemplo 7//3\n",
    "- **Obtención del residuo:** Con el símbolo % se obtiene el resuiduo de una división ej. 7%3\n",
    "\n",
    "## Operadores lógicos\n",
    "and, or, not\n",
    "\n",
    "## Operadores de comparación\n",
    "<, >, <=, >=, ==, != "
   ]
  },
  {
   "cell_type": "code",
   "execution_count": 1,
   "id": "3a31770f-02fd-4571-90dd-add30d94ae63",
   "metadata": {},
   "outputs": [
    {
     "data": {
      "text/plain": [
       "'hello world hello world hello world '"
      ]
     },
     "execution_count": 1,
     "metadata": {},
     "output_type": "execute_result"
    }
   ],
   "source": [
    "3+3\n",
    "5-2\n",
    "7*2\n",
    "8/3\n",
    "-3\n",
    "--3\n",
    "5**2\n",
    "7//2\n",
    "7%2\n",
    "1>2\n",
    "1>=7\n",
    "1<7\n",
    "3!=4\n",
    "8==6\n",
    "not 8<2\n",
    "6==1 and 8>2\n",
    "7==1 or 2<8\n",
    "\"Hola mundo by \" + \"maolink\"\n",
    "\"hello world \"*3"
   ]
  },
  {
   "cell_type": "markdown",
   "id": "be1ca8c6-d02e-4d9f-a88d-a08583d7a80d",
   "metadata": {},
   "source": [
    "## Conversion de datos"
   ]
  },
  {
   "cell_type": "markdown",
   "id": "82d58239-609a-4a59-a5c1-3beb9c08fab7",
   "metadata": {},
   "source": [
    "### Convertir un valor a string\n",
    "str(val)"
   ]
  },
  {
   "cell_type": "code",
   "execution_count": 1,
   "id": "d41e0b45-ff23-4c12-98b9-78dfe332fa90",
   "metadata": {},
   "outputs": [
    {
     "data": {
      "text/plain": [
       "'87'"
      ]
     },
     "execution_count": 1,
     "metadata": {},
     "output_type": "execute_result"
    }
   ],
   "source": [
    "str(87)"
   ]
  },
  {
   "cell_type": "markdown",
   "id": "bf584266-c7d5-4ea8-a720-bcbc4d6778e2",
   "metadata": {},
   "source": [
    "### Convertir un valor a integer\n",
    "int(val)"
   ]
  },
  {
   "cell_type": "code",
   "execution_count": 1,
   "id": "518a7052-ecd0-4aca-89e8-534022f7a8ee",
   "metadata": {},
   "outputs": [
    {
     "data": {
      "text/plain": [
       "87"
      ]
     },
     "execution_count": 1,
     "metadata": {},
     "output_type": "execute_result"
    }
   ],
   "source": [
    "int(87.54)"
   ]
  },
  {
   "cell_type": "markdown",
   "id": "79f8f51d-a602-4735-8079-46a4f1f35681",
   "metadata": {},
   "source": [
    "### Convertir un valor a float\n",
    "float(val)"
   ]
  },
  {
   "cell_type": "code",
   "execution_count": 3,
   "id": "cf4e139a-c5be-459c-8b48-8eb1214e3010",
   "metadata": {},
   "outputs": [
    {
     "data": {
      "text/plain": [
       "87.0"
      ]
     },
     "execution_count": 3,
     "metadata": {},
     "output_type": "execute_result"
    }
   ],
   "source": [
    "float(87)"
   ]
  },
  {
   "cell_type": "markdown",
   "id": "a5ac1609-8d77-4489-9a10-84985465eb79",
   "metadata": {},
   "source": [
    "### Convertir un valor a bool\n",
    "bool(val)\n",
    "    Si val=0 o val=\"\" entonces entregará False\n",
    "    Cualquier otro caso será True"
   ]
  },
  {
   "cell_type": "code",
   "execution_count": 4,
   "id": "30eef99d-07ae-4586-83c9-5479f1618d72",
   "metadata": {},
   "outputs": [
    {
     "data": {
      "text/plain": [
       "False"
      ]
     },
     "execution_count": 4,
     "metadata": {},
     "output_type": "execute_result"
    }
   ],
   "source": [
    "bool(\"\")"
   ]
  },
  {
   "cell_type": "code",
   "execution_count": 5,
   "id": "2231cbe1-8abe-46b1-b7c8-94dfccead221",
   "metadata": {},
   "outputs": [
    {
     "data": {
      "text/plain": [
       "True"
      ]
     },
     "execution_count": 5,
     "metadata": {},
     "output_type": "execute_result"
    }
   ],
   "source": [
    "bool(\"false\")"
   ]
  },
  {
   "cell_type": "markdown",
   "id": "722696f1-afa0-4b4e-bb54-31a080d0a558",
   "metadata": {},
   "source": [
    "## Uso de print"
   ]
  },
  {
   "cell_type": "code",
   "execution_count": 8,
   "id": "2bfb63c3-e96c-4be9-961a-b7c0858ab1f9",
   "metadata": {},
   "outputs": [
    {
     "name": "stdout",
     "output_type": "stream",
     "text": [
      "Hola mundo he despertado\n"
     ]
    }
   ],
   "source": [
    "mensaje=\"mundo\"\n",
    "complemento=\"despertado\"\n",
    "print(\"Hola\",mensaje,\"he\", complemento)"
   ]
  },
  {
   "cell_type": "markdown",
   "id": "81c90863-5689-4359-b945-4d1a98bfcd22",
   "metadata": {},
   "source": [
    "con el uso de **sep** al final de los argumentos de print, pone la separación que allí deseignemos"
   ]
  },
  {
   "cell_type": "code",
   "execution_count": 9,
   "id": "48e37e08-2fe4-402e-90c7-ba3e992f2366",
   "metadata": {},
   "outputs": [
    {
     "name": "stdout",
     "output_type": "stream",
     "text": [
      "Hola...mundo...he...despertado\n"
     ]
    }
   ],
   "source": [
    "mensaje=\"mundo\"\n",
    "complemento=\"despertado\"\n",
    "print(\"Hola\",mensaje,\"he\", complemento,sep=\"...\")"
   ]
  },
  {
   "cell_type": "code",
   "execution_count": 12,
   "id": "c306fa23-8faf-45a9-9a07-dc69bcf401d6",
   "metadata": {},
   "outputs": [
    {
     "name": "stdin",
     "output_type": "stream",
     "text": [
      "Quiero saludarte, me regalas tu nombre? maolink\n"
     ]
    },
    {
     "name": "stdout",
     "output_type": "stream",
     "text": [
      "Hola maolink es un gusto saludarte\n"
     ]
    }
   ],
   "source": [
    "nombre=input(\"Quiero saludarte, me regalas tu nombre?\")\n",
    "mensaje1=\"Hola\"\n",
    "mensaje2=\"es un gusto saludarte\"\n",
    "print (mensaje1,nombre,mensaje2)"
   ]
  },
  {
   "cell_type": "markdown",
   "id": "902b92e0-0c7b-4b40-a20f-a92003f01dea",
   "metadata": {},
   "source": [
    "Es importante no olvidar que el uso de input, SIEMPRE me entregará un string del dato introducido, es por eso que se debe hacer la conversión al tipo de dato necesario de ser el caso"
   ]
  },
  {
   "cell_type": "code",
   "execution_count": 14,
   "id": "37d43254-1d22-4137-a26c-eecc32f066f1",
   "metadata": {},
   "outputs": [
    {
     "name": "stdin",
     "output_type": "stream",
     "text": [
      "Cual es tu año de nacimiento? 1979\n",
      "cual es el año actual 2024\n"
     ]
    },
    {
     "name": "stdout",
     "output_type": "stream",
     "text": [
      "Tu tienes 45 actualmente\n"
     ]
    }
   ],
   "source": [
    "nacimiento=int(input(\"Cual es tu año de nacimiento?\"))\n",
    "actual = int(input(\"cual es el año actual\"))\n",
    "edad = str(actual - nacimiento)\n",
    "print(\"Tu tienes\",edad,\"actualmente\" )"
   ]
  },
  {
   "cell_type": "code",
   "execution_count": 19,
   "id": "efad63b0-d6fc-4935-a363-a09a66c31f54",
   "metadata": {},
   "outputs": [
    {
     "data": {
      "text/plain": [
       "float"
      ]
     },
     "execution_count": 19,
     "metadata": {},
     "output_type": "execute_result"
    }
   ],
   "source": [
    "n1 = 54\n",
    "n2 = 3\n",
    "resultado = 13 + n1 / n2\n",
    "type(3 + 18 / 3)"
   ]
  },
  {
   "cell_type": "markdown",
   "id": "d9bbcd62-4acd-468b-8f8d-22e1ff7de0f7",
   "metadata": {},
   "source": [
    "## Estructuras de control\n",
    "Por supusto las estructuras de control permiten dinamizar el flujo del programa a partir de la toma de decisiones, a continuación se detallan algunas de esas estructuras"
   ]
  },
  {
   "cell_type": "markdown",
   "id": "897760f2-d54e-4c2f-b837-fe492eef6f0a",
   "metadata": {},
   "source": [
    "### Condicional if - else\n",
    "\n",
    "*Sinatxis*\n",
    "\n",
    "```\n",
    "if condicion:\n",
    "    instruccciones_para_True\n",
    "else:\n",
    "    instrucciones_para_False\n",
    "```"
   ]
  },
  {
   "cell_type": "code",
   "execution_count": 4,
   "id": "3a018f2c-d235-440c-bb38-54026c005cc9",
   "metadata": {},
   "outputs": [
    {
     "name": "stdout",
     "output_type": "stream",
     "text": [
      "Bienvenido al programa ¿Haces caso?\n"
     ]
    },
    {
     "name": "stdin",
     "output_type": "stream",
     "text": [
      "digita un numero mayor o igual a 10 100\n"
     ]
    },
    {
     "name": "stdout",
     "output_type": "stream",
     "text": [
      "Muy bien, eres muy obediente\n"
     ]
    }
   ],
   "source": [
    "print(\"Bienvenido al programa ¿Haces caso?\")\n",
    "res= int(input(\"digita un numero mayor o igual a 10\"))\n",
    "if res>=10:\n",
    "    print(\"Muy bien, eres muy obediente\")\n",
    "else:\n",
    "    print(\"Se nota que no sigues indicaciones\")"
   ]
  },
  {
   "cell_type": "markdown",
   "id": "9d180729-6c32-49a7-939d-d869ad5fb9fc",
   "metadata": {},
   "source": [
    "### Condicional if\n",
    "Evalua la condicion, si es verdadera ejecuta lo que hay dentro del if y continua con el flujo del programa, si es falso solo continua con el flujo del programa\n",
    "\n",
    "**Sintaxis**\n",
    "```\n",
    "if condicion:\n",
    "    instruccion\n",
    "continua el programa\n",
    "```"
   ]
  },
  {
   "cell_type": "code",
   "execution_count": null,
   "id": "80b52c3d-13e5-4748-bf0b-6fda8e4e4ede",
   "metadata": {},
   "outputs": [],
   "source": []
  },
  {
   "cell_type": "code",
   "execution_count": null,
   "id": "4d466ddb-21f5-4fea-95c7-c4816d404d7c",
   "metadata": {},
   "outputs": [],
   "source": [
    "saludo= input(\"Saluda si quieres\")\n",
    "if saludo:\n",
    "    print(\"Hola como estas, gracioas por pedirme saludar\")\n",
    "print(\"El programa continuia si o si\")"
   ]
  },
  {
   "cell_type": "markdown",
   "id": "59657525-d655-487b-b5e8-435f541cb4a6",
   "metadata": {},
   "source": [
    "### Condicional elif\n",
    "Basicamente esta es la estructura asociada a los if else if, funciona evaluando cada condicion apenas evalue la primera condiciona verdadera inmediatamente no evalua mas y sigue con el flujo del programa, veamos la estructuta\n",
    "\n",
    "\n",
    "**sintasis**\n",
    "\n",
    "```\n",
    "if condicion1:\n",
    "    instruccion1\n",
    "elif condicion2:\n",
    "    instruccion2\n",
    "elif condicion3:\n",
    "    instruccion3\n",
    "elif condicion4:\n",
    "    instruccion4\n",
    "      .\n",
    "      .\n",
    "      .\n",
    "elif condicion i:\n",
    "     instruccion i\n",
    "else:\n",
    "    instruccion N\n",
    "continua el flijo del programa\n",
    "```"
   ]
  },
  {
   "cell_type": "markdown",
   "id": "fa9a2f4b-fd4d-4b32-b089-3c3e0546093d",
   "metadata": {},
   "source": [
    "### while\n",
    "Permite la ejecución de una serie de instrucciones mientras la condicipn evaluada sea verdadera.\n",
    "\n",
    "**Sintaxis**\n",
    "```\n",
    "while condicion:\n",
    "    instrucciones\n",
    "continua programa\n",
    "```\n"
   ]
  },
  {
   "cell_type": "code",
   "execution_count": 7,
   "id": "8af75413-5db3-4f59-b7a2-28793ffbc176",
   "metadata": {},
   "outputs": [
    {
     "name": "stdout",
     "output_type": "stream",
     "text": [
      "------------------------------------------------------\n",
      "Impresión de números de 1 hasta el número que quieras\n"
     ]
    },
    {
     "name": "stdin",
     "output_type": "stream",
     "text": [
      "Hasta que numero quiere imprimir? 10\n"
     ]
    },
    {
     "name": "stdout",
     "output_type": "stream",
     "text": [
      "0\n",
      "1\n",
      "2\n",
      "3\n",
      "4\n",
      "5\n",
      "6\n",
      "7\n",
      "8\n",
      "9\n",
      "10\n",
      "Fin del programa\n",
      "------------------------------------------------------\n"
     ]
    }
   ],
   "source": [
    "print (\"------------------------------------------------------\")\n",
    "print(\"Impresión de números de 1 hasta el número que quieras\")\n",
    "num= int(input(\"Hasta que numero quiere imprimir?\"))\n",
    "inicio=0\n",
    "while inicio <=num:\n",
    "    print(inicio)\n",
    "    inicio=inicio+1\n",
    "print (\"Fin del programa\")\n",
    "print (\"------------------------------------------------------\")"
   ]
  },
  {
   "cell_type": "markdown",
   "id": "759fbd21-425c-422d-8656-4991272fb42d",
   "metadata": {},
   "source": [
    "### Instruccion for\n",
    "Permite la ejecución ciclica de un código un numero determinado de veces\n",
    "\n",
    "**Sintaxys**\n",
    "\n",
    "```\n",
    "for var in range(val):\n",
    "    instruccion\n",
    "continua el programa\n",
    "```\n",
    "Esto ejecutara la instruccion una cantidad de veces igual a lo incorporado en val (nota: siempre var iniciará en 0)"
   ]
  },
  {
   "cell_type": "code",
   "execution_count": 8,
   "id": "6a48ad3d-7363-4249-a34f-312858a8f342",
   "metadata": {},
   "outputs": [
    {
     "name": "stdout",
     "output_type": "stream",
     "text": [
      "------------------------------------------------------\n",
      "Impresión de números de 1 hasta el número que quieras\n"
     ]
    },
    {
     "name": "stdin",
     "output_type": "stream",
     "text": [
      "Hasta que numero quiere imprimir? 10\n"
     ]
    },
    {
     "name": "stdout",
     "output_type": "stream",
     "text": [
      "0\n",
      "1\n",
      "2\n",
      "3\n",
      "4\n",
      "5\n",
      "6\n",
      "7\n",
      "8\n",
      "9\n",
      "10\n",
      "Fin del programa\n",
      "------------------------------------------------------\n"
     ]
    }
   ],
   "source": [
    "print (\"------------------------------------------------------\")\n",
    "print(\"Impresión de números de 1 hasta el número que quieras\")\n",
    "num= int(input(\"Hasta que numero quiere imprimir?\"))\n",
    "for i in range(num+1):\n",
    "    print (i)\n",
    "print (\"Fin del programa\")\n",
    "print (\"------------------------------------------------------\")    "
   ]
  },
  {
   "cell_type": "markdown",
   "id": "2317ff5d-50b7-45df-8e21-7d0103274e3d",
   "metadata": {},
   "source": [
    "### Generalidad del for\n",
    "En realidad el ciclo for es mas versatil en su estruxtura\n",
    "```\n",
    "for var in secuencia:\n",
    "    instruccion\n",
    "```\n",
    "secuencia puede ser: un arreglo o por ejemplo la sentencia range  () que tiene 3 usos\n",
    "- range(n): Recorre los número de 0 hasta n-1\n",
    "- range(inicio, fin): recorre los numero desde incio hasta fin-1\n",
    "- range(inicio, fin, incremente): recorre los numero desde inicio hasta fin-1 con saltos dado en incremento"
   ]
  },
  {
   "cell_type": "code",
   "execution_count": 8,
   "id": "988c68f8-f1cc-464d-a51c-648dcfe64141",
   "metadata": {},
   "outputs": [
    {
     "name": "stdout",
     "output_type": "stream",
     "text": [
      "6\n"
     ]
    }
   ],
   "source": [
    "a = 3\n",
    "for i in range(2, 3):\n",
    "    a = a * i\n",
    "print(a)"
   ]
  },
  {
   "cell_type": "markdown",
   "id": "f1ec48aa-712c-4f90-a71a-3094a22ed9b0",
   "metadata": {},
   "source": [
    "## Funciones\n",
    "Por supuesto esta es una de los paradigmas de programación mas útiles, verastiles y universales, el concepto de funcion, el cual permite por ejemplo reutilizar codigo de una manera muy sencilla, ya que la definición de la función se hace solo una vez y su uso, llamado o invocación se puede hacer las veces que sean necesarias.\n",
    "\n",
    "**Sitasyx definicion de una función**\n",
    "```\n",
    "def name_function(par1,par2,..parN):\n",
    "    codigo\n",
    "    return someValue\n",
    "```\n",
    "No necesariamente las funciones deben retornar algo, pueden ser funciones meramente operativas que por ejempño imprima mensajes en pantalla pero en general que no devuelvanada, sin embargo lo mas habitual es que las variables retornen algun valor\n",
    "\n",
    "**Sintasys llamado de funcion**\n",
    "```\n",
    "name_function(arg1,arg2, ... argN)\n",
    "variable = name_function(arg1,arg2, .... argN)\n",
    "```\n"
   ]
  },
  {
   "cell_type": "code",
   "execution_count": 10,
   "id": "42c97c62-09ba-4bcf-b92f-124ce46a160c",
   "metadata": {},
   "outputs": [
    {
     "name": "stdout",
     "output_type": "stream",
     "text": [
      "Sumaremos dos numeros\n"
     ]
    },
    {
     "name": "stdin",
     "output_type": "stream",
     "text": [
      "Escribe el primer numero 20\n",
      "Escribe el seguundo numero numero 30\n"
     ]
    },
    {
     "name": "stdout",
     "output_type": "stream",
     "text": [
      "La suma de los dos numero es  50.0\n"
     ]
    }
   ],
   "source": [
    "def suma(a,b):\n",
    "    c=a+b\n",
    "    return c\n",
    "print(\"Sumaremos dos numeros\")\n",
    "n1=float(input(\"Escribe el primer numero\"))\n",
    "n2=float(input(\"Escribe el seguundo numero numero\"))\n",
    "print (\"La suma de los dos numero es \", + suma(n1,n2))"
   ]
  },
  {
   "cell_type": "markdown",
   "id": "c05bd599-b812-4941-99ec-6102a8f01391",
   "metadata": {},
   "source": [
    "### Importación de modulos y/o funciones\n",
    "Normalmente las funciones estan dentro de estructuras mas grandes llamados modulos, se pueden importar ya sean los modulos o las funciones de las sigguiente manera\n",
    "\n",
    "#### Importación del modulo completo\n",
    "```\n",
    "import nameModulo\n",
    "```\n",
    " \n",
    "#### Importación de algunas funciones\n",
    "```\n",
    "form NameModulo import fn1, fn2, fn3\n",
    "```\n",
    "\n",
    "#### Importacion usando alias\n",
    "Esto significa que se le puede cambiar el nombre a las funciones que se importan\n",
    "```\n",
    "from NameModelo import f1 as alias\n",
    "```"
   ]
  },
  {
   "cell_type": "code",
   "execution_count": 2,
   "id": "44f0b364-d404-4237-ac4f-d7e7056b8d9a",
   "metadata": {},
   "outputs": [
    {
     "name": "stdout",
     "output_type": "stream",
     "text": [
      "seno de 45 radianes es 0.8509035245341184\n"
     ]
    }
   ],
   "source": [
    "import math\n",
    "print(\"seno de 45 radianes es\", math.sin(45))"
   ]
  },
  {
   "cell_type": "code",
   "execution_count": 14,
   "id": "aa469b6c-7e92-44d8-9924-80432750d9b1",
   "metadata": {},
   "outputs": [
    {
     "name": "stdout",
     "output_type": "stream",
     "text": [
      "coseno de 45 radianes es 0.5253219888177297\n"
     ]
    }
   ],
   "source": [
    "from math import cos\n",
    "print(\"coseno de 45 radianes es\", cos(45))"
   ]
  },
  {
   "cell_type": "code",
   "execution_count": 17,
   "id": "f936aaa0-b320-4c87-895c-15b2c927e770",
   "metadata": {},
   "outputs": [
    {
     "name": "stdout",
     "output_type": "stream",
     "text": [
      "la tangente de 45 radianes es 1.6197751905438615\n"
     ]
    }
   ],
   "source": [
    "from math import tan as tangencito\n",
    "print(\"la tangente de 45 radianes es\", tangencito(45))"
   ]
  },
  {
   "cell_type": "markdown",
   "id": "49fd026f-8472-4ada-8e11-831496fea201",
   "metadata": {},
   "source": [
    "### Scope de las variables\n",
    "El concepto de scpe está asociado al alcande que tiene las funciones de acceder o no a las variables del programa, esto depende fundamentalmente de donde se ubiquen tales variables, la reglas generales son las siguientes\n",
    "\n",
    "- Las variables **dentro** de una función solo son accesibles por la función, ningun codigo externo de la función u otra función puede hacer uso de una variable que esté dentro de una función.\n",
    "- Una función si puede acceder a una vriable que esté **fuera** de la función, pero solo puede **leer** su valor, no lo podrá modificar (mostrara un error en caso de intento de modificación).\n",
    "- En el caso anterior si una hay dos variables con el mismo nombre, una dentro de una función y otra fuera de la función la función solo considerará la interna y omitirá la externa."
   ]
  },
  {
   "cell_type": "markdown",
   "id": "e970da50-6a41-424f-831c-0f1cbf65db91",
   "metadata": {},
   "source": [
    "## Cadenas\n",
    "Las cadenas de caracteres o simplemente textos, son elementos de suma importacia en la programación, en terminos generales tienen la misma estructura que en cualquier otro lenguaje, entre ellos que debe inciar y finalizar sntre comillas simples o dobles. A continuación algunas operaciones con cadenas"
   ]
  },
  {
   "cell_type": "code",
   "execution_count": 4,
   "id": "719dc261-0f21-49e5-91e2-11dae68ff52a",
   "metadata": {},
   "outputs": [
    {
     "name": "stdout",
     "output_type": "stream",
     "text": [
      "hello world\n"
     ]
    }
   ],
   "source": [
    "# Concatenar cadenas\n",
    "cad1= \"hello\"\n",
    "cad2= \"world\"\n",
    "saludo = cad1+\" \" + cad2\n",
    "print(saludo)"
   ]
  },
  {
   "cell_type": "code",
   "execution_count": 31,
   "id": "be42bf68-8108-4c76-a1da-4179b587330e",
   "metadata": {},
   "outputs": [
    {
     "name": "stdout",
     "output_type": "stream",
     "text": [
      "e\n",
      "d\n",
      "o\n",
      "Bre es mauR\n",
      "Hola, esta es la primera linea \n",
      "y esta es la segunda linea\n",
      "Recuerda usar \\  para mostrar ese simbolo\n"
     ]
    }
   ],
   "source": [
    "# Elegir un caracter cualquiera de una cadena, las cadenas se tratan como arrays con los indices incianco en 0\n",
    "print(cad1[1])\n",
    "\n",
    "# Se puede elegir de atras hacia adelante, el ultimo caracter será -1\n",
    "print(cad2[-1])\n",
    "print(\"Hola mundo he despertado\"[-1])\n",
    "\n",
    "# Se puede elegir un rango de elección con la sinaxis cadena[inicio:final+1]\n",
    "# Importante si pones [2:7] elegirá desde la posición 2 hasta la posicion 6\n",
    "print(\"Hola mi nomBre es mauRicio\"[11:22])\n",
    "\n",
    "#Caracteres especiales como salto de linea u otras se hacen con \\\n",
    "print(\"Hola, esta es la primera linea \\ny esta es la segunda linea\")\n",
    "print(\"Recuerda usar \\\\  para mostrar ese simbolo\")"
   ]
  },
  {
   "cell_type": "markdown",
   "id": "042aed09-ec97-4b83-80a7-fdb8fddef13a",
   "metadata": {},
   "source": [
    "### Algunas funciones utiles en cadenas\n",
    "- len(string): Determina la longitud de un string\n",
    "- string.lower(): Hace minuscula todos los caracteres de la cadena\n",
    "- string.upper(): Hace mayuscula todos los caracteres de la cadena\n",
    "- string.strip(char): elimina el elemento char que se encuentre tanto al inicion como al final de la cadena\n",
    "- string.replace(old,new): reemplaza el caracter old, por el caracter new en toda la cadena de caracteres"
   ]
  },
  {
   "cell_type": "code",
   "execution_count": 25,
   "id": "89efe955-0430-47ce-8765-d2b0a9de952e",
   "metadata": {},
   "outputs": [
    {
     "name": "stdout",
     "output_type": "stream",
     "text": [
      "65\n",
      "ESTE ES UN TEXTO DE PRUEBA HECHO EL 28 DE MARZO DE 2024. PROGRAME\n",
      "este es un texto de prueba hecho el 28 de marzo de 2024. programe\n",
      "ste es un TEXTO de prueba hecho el 28 de marzo de 2024. program\n",
      "Este es un TEXTO de prueb- hecho el 28 de m-rzo de 2024. progr-mE\n"
     ]
    }
   ],
   "source": [
    "prueba=\"Este es un TEXTO de prueba hecho el 28 de marzo de 2024. programE\"\n",
    "print(len(prueba))\n",
    "print(prueba.upper())\n",
    "print(prueba.lower())\n",
    "print(prueba.strip(\"E\"))\n",
    "print(prueba.replace(\"a\",\"-\"))"
   ]
  },
  {
   "cell_type": "markdown",
   "id": "821e937f-fdd9-493d-9dcc-c4d3959f8c19",
   "metadata": {},
   "source": [
    "## Archivos\n",
    "Los archivos se pueden o leer o escribia a contiuación la manera\n",
    "\n",
    "**Sintasys**\n",
    "```\n",
    "variable= open(\"name_archivo.ext\",\"modo\")\n",
    "```\n",
    "el modo puede ser\n",
    "- \"r\": para lectura\n",
    "- \"w\": para escritura\n",
    "\n",
    "si no se pone el modo, entonces por defectos se considera de lectura\n",
    "\n",
    "Luego de cargar el archivo se debe leer, para ello se usa la función read()\n",
    "```\n",
    "contenido= variable.read()\n",
    "```"
   ]
  },
  {
   "cell_type": "code",
   "execution_count": 39,
   "id": "1ab77eb5-9224-476f-a0c3-0bac6509693c",
   "metadata": {
    "scrolled": true
   },
   "outputs": [
    {
     "name": "stdout",
     "output_type": "stream",
     "text": [
      "Hola!!\n",
      "Este es un archivo de prueba para leer desde Python, al finalizar esta linea, se considera que es la lina numero 1\n",
      "Ahora si comienza la linea numero 2\n",
      "\n",
      "\n"
     ]
    }
   ],
   "source": [
    "openarchivo=open(\"test.txt\",\"r\")\n",
    "leer=openarchivo.read()\n",
    "print(leer)"
   ]
  },
  {
   "cell_type": "code",
   "execution_count": 44,
   "id": "c41a8d1b-6153-4466-aa83-b9df3d43114d",
   "metadata": {},
   "outputs": [],
   "source": [
    "newArchivo=open(\"newtext.txt\",\"w\")\n",
    "newArchivo.write(\"Hola mundo esta es mi primera y unica linea en este archivo\")\n",
    "newArchivo.write(\"Esto sigue en la misma linea es decir unnuevo write no hace salto de linea\")\n",
    "newArchivo.write(\"\\n\\nFinalmente este si es un salto de linea y finalizo el archivo \\nProgramado por Maolink Software\")\n",
    "newArchivo.close()"
   ]
  },
  {
   "cell_type": "markdown",
   "id": "1ee402ab-f187-45e6-b14e-7ab5de90f93a",
   "metadata": {},
   "source": [
    "## Listas\n",
    "Son uno de los principales elementos en la programación, en el caso de Python una lista puede contener elementos de cualquier tipo incluso puede contener otras listas.\n",
    "\n",
    "**Sintaxis**\n",
    "```\n",
    "myLista=[elem1,elem2,elem3....elemN]\n",
    "```\n",
    "Listas vacias\n",
    "\n",
    "**Sintaxis**\n",
    "```\n",
    "myLista=[]\n",
    "myLIsta=list()\n",
    "```"
   ]
  },
  {
   "cell_type": "markdown",
   "id": "2fded5e6-9275-466c-906d-467af0ef543e",
   "metadata": {},
   "source": [
    "### Manipulacion de listas\n",
    "Implica buscar elementos, eliminar o adicionar"
   ]
  },
  {
   "cell_type": "code",
   "execution_count": 7,
   "id": "20f9ba8f-4281-4caa-b044-491c717c5ffe",
   "metadata": {},
   "outputs": [
    {
     "name": "stdout",
     "output_type": "stream",
     "text": [
      "[1979, 2016]\n",
      "Este concepto se llama slicing permite elegir elementos de una lista desde un inciio hasta un final-1 myList[inicio:final]\n",
      "['Mauricio', 'Maolink Software', True, [1979, 2016]]\n",
      "['Mauricio', 'Maolink Software', True, [1979, 2016], 'Sabado']\n",
      "El tercer parametro se llama step\n",
      "['Mauricio', True, 'Sabado']\n"
     ]
    }
   ],
   "source": [
    "nombreEmpresa=\"Maolink Software\"\n",
    "diaSemana=\"Sabado\"\n",
    "myList=[\"Mauricio\", nombreEmpresa, True, [1979,2016], diaSemana]\n",
    "\n",
    "print(myList[3])\n",
    "\n",
    "\n",
    "print(\"Este concepto se llama slicing permite elegir elementos de una lista desde un inciio hasta un final-1 myList[inicio:final]\")\n",
    "print(myList[0:4])\n",
    "\n",
    "\n",
    "print(myList[0:])\n",
    "\n",
    "print(\"El tercer parametro se llama step\")\n",
    "print(myList[0::2])"
   ]
  },
  {
   "cell_type": "markdown",
   "id": "2b5a0712-fae0-4631-adc1-6a4f68cb0139",
   "metadata": {},
   "source": [
    "### For iterativo con las listas\n",
    "Una de las potencias del for es que pueda iterar sobre todos los elementos de una lista\n",
    "\n",
    "**sintasys**\n",
    "```\n",
    "for i in list:\n",
    "    instrucciones\n",
    "```"
   ]
  },
  {
   "cell_type": "code",
   "execution_count": 11,
   "id": "8820ecaf-0412-48ec-aaf6-594d36cb925b",
   "metadata": {},
   "outputs": [
    {
     "name": "stdout",
     "output_type": "stream",
     "text": [
      "Elemento 0 contiene: Mauricio\n",
      "Elemento 1 contiene: Maolink Software\n",
      "Elemento 2 contiene: True\n",
      "Elemento 3 contiene: [1979, 2016]\n",
      "Elemento 4 contiene: Sabado\n"
     ]
    }
   ],
   "source": [
    "j=0\n",
    "for i in myList:\n",
    "    print(\"Elemento\",j, \"contiene:\",i)\n",
    "    j+=1"
   ]
  },
  {
   "cell_type": "markdown",
   "id": "bf3c9e81-7c0e-4993-89ca-abe373b3144a",
   "metadata": {},
   "source": [
    "### Inserción y eliminacion de elementos en una lista\n",
    "En las listas se puede eliminar o adicionar elementos, tambien las listas se pueden concatenar"
   ]
  },
  {
   "cell_type": "code",
   "execution_count": 4,
   "id": "d129c5a1-a32c-4c80-8491-8f9bf04b8ad9",
   "metadata": {},
   "outputs": [
    {
     "name": "stdout",
     "output_type": "stream",
     "text": [
      "['Hola', 3, True, [0, 1], 'Adios', 23, False]\n",
      "['Hola', 3, True, [0, 1], 'Mariangel']\n",
      "['Adios', 23, False, 'Hola', 3, True, [0, 1], 'Mariangel']\n",
      "['Adios', 23, 'Maolink', False, 'Hola', 3, True, [0, 1], 'Mariangel']\n",
      "Se ha eliminado el elemento: Mariangel\n",
      "Ahora esta es la nueva lista\n",
      "['Adios', 23, 'Maolink', False, 'Hola', 3, True, [0, 1]]\n",
      "Se haeliminado de la lista el elemento: None\n",
      "Ahora esta es la nueva lista\n",
      "['Adios', 23, 'Maolink', False, 'Hola', 3, [0, 1]]\n",
      "Devuelve el indice del elemento entregado en el argumento\n",
      "2\n"
     ]
    }
   ],
   "source": [
    "list1=[\"Hola\",3,True, [0,1]]\n",
    "list2=[\"Adios\",23,False]\n",
    "list3=list1+list2\n",
    "\n",
    "print(list3)\n",
    "\n",
    "# append(elm) agrega elemento al final de la lista\n",
    "list1.append(\"Mariangel\")\n",
    "print(list1)\n",
    "\n",
    "# extend(list) lo que hace es que agrega los elementos de list al final de la lista original\n",
    "list2.extend(list1)\n",
    "print(list2)\n",
    "\n",
    "# insert(index,elem) inserta el elemento en la posicion indicada y desplaza los demás elemetos hacia la derecha\n",
    "list2.insert(2,\"Maolink\")\n",
    "print(list2)\n",
    "\n",
    "# pop(index) elimina el ultimo elemento de la lista y devuelve como valor de retorno ese valor eliminado\n",
    "eliminado= list2.pop()\n",
    "print(\"Se ha eliminado el elemento:\",eliminado)\n",
    "print(\"Ahora esta es la nueva lista\")\n",
    "print(list2)\n",
    "\n",
    "# remove(index) elimina el elemento indicado en index y lo devuelve como valor\n",
    "eliminado=list2.remove(1)\n",
    "print(\"Se haeliminado de la lista el elemento:\",eliminado)\n",
    "print(\"Ahora esta es la nueva lista\")\n",
    "print(list2)\n",
    "\n",
    "print(\"Devuelve el indice del elemento entregado en el argumento\")\n",
    "print(list2.index(\"Maolink\"))\n"
   ]
  },
  {
   "cell_type": "markdown",
   "id": "e1efa09b-0898-42b3-b6e2-b28058264723",
   "metadata": {},
   "source": [
    "### Funciones sobre las listas\n",
    "Algunas de las funciones utiles en la lista son\n",
    "\n",
    "- len(lista):Devuelve el numero de elementos en una lista\n",
    "- (elemento in lista): esto devuuelve un booleano con True en caso que elemento esté en la lista\n",
    "- lista.index(elemento): Devuelve la posicion del elemeto en la lista\n",
    "- string.split(separador): Convierte los elementos de un string en elementos de una lista, el separador es el criterio que toma split para determinar cada elemento\n",
    "- lista.sort(): Ordena la lista de menor a mayor"
   ]
  },
  {
   "cell_type": "code",
   "execution_count": 27,
   "id": "80b24ca3-2b87-491b-8fc4-29e027ab0ba1",
   "metadata": {},
   "outputs": [
    {
     "name": "stdout",
     "output_type": "stream",
     "text": [
      "Esta lista tiene 5 elemntos\n",
      "False\n",
      "2\n",
      "['Hola', ' este es un texto', ' con muchos elemntos como', ' paz', ' amor', ' lealtad']\n",
      "[' amor', ' con muchos elemntos como', ' este es un texto', ' lealtad', ' paz', 'Hola']\n"
     ]
    }
   ],
   "source": [
    "newList=[\"Hola\", \"Amigos\", 200, True,\"Mariangel\"]\n",
    "print(\"Esta lista tiene\", len(newList), \"elemntos\")\n",
    "\n",
    "buscar = \"Camila\" in newList\n",
    "print(buscar)\n",
    "\n",
    "posicion= newList.index(200)\n",
    "print(posicion)\n",
    "\n",
    "cadena=\"Hola, este es un texto, con muchos elemntos como, paz, amor, lealtad\"\n",
    "otherList=cadena.split(\",\")\n",
    "print(otherList)\n",
    "\n",
    "otherList.sort()\n",
    "print(otherList)"
   ]
  },
  {
   "cell_type": "markdown",
   "id": "aa0ab854-918e-4770-b5dc-4d825f0669a7",
   "metadata": {},
   "source": [
    "## Tuplas\n",
    "Esta estructura de datos en primera instancia parecería igual que una lista, solo que tiene una diferencia tracendental y es que las tuplas son **inmutable**, eso significa que no se pueden modificar. La notación elemental de una tupla es la siguiente:\n",
    "```\n",
    "dias=(l,m,w,j,v,s,d)\n",
    "```\n",
    "son elementos separados por , y en parentesis sin embargo los parentesis son opcionales, esta tambipen es una manera de definir tuplas\n",
    "```\n",
    "meses =e,f,m,a,m,j,j,a,s,o,n,d\n",
    "```\n",
    "Veamoslo en la practica"
   ]
  },
  {
   "cell_type": "code",
   "execution_count": 16,
   "id": "91b307cf-a7f0-4b04-a5ff-3e79293d073a",
   "metadata": {},
   "outputs": [],
   "source": [
    "dias=('lunes','martes','miercoles','jueves','viernes','sabado','ddomingo')\n",
    "meses='enero','febrero','marzo','abril','mayo','junio','julio','agosto'"
   ]
  },
  {
   "cell_type": "markdown",
   "id": "ba2fdcc5-6bf1-40c7-bec9-23dd95af634c",
   "metadata": {},
   "source": [
    "Acceder a un elemento de una tupla es igual que como una lista."
   ]
  },
  {
   "cell_type": "code",
   "execution_count": 17,
   "id": "1d4b513d-0e2b-4b8c-b2e2-56eea9113fa4",
   "metadata": {},
   "outputs": [
    {
     "name": "stdout",
     "output_type": "stream",
     "text": [
      "jueves\n",
      "mayo\n"
     ]
    }
   ],
   "source": [
    "print(dias[3])\n",
    "print(meses[4])"
   ]
  },
  {
   "cell_type": "markdown",
   "id": "112114cb-fa90-408c-81cd-f55d21219f8a",
   "metadata": {},
   "source": [
    "NO es posible hacer una asiganción de este tipo en una tupla\n",
    "```\n",
    "meses[2]='feb'\n",
    "```\n",
    "Esto arrojaria un error"
   ]
  },
  {
   "cell_type": "markdown",
   "id": "a6ba22f5-a84d-4256-ba7a-243c692f3ee3",
   "metadata": {},
   "source": [
    "### Extrayendo valores masivamente\n",
    "Similar a un extracting es posible sacar varios valores de una tupla en una sola linea así"
   ]
  },
  {
   "cell_type": "code",
   "execution_count": 15,
   "id": "2fff141c-e0b9-4b99-a276-6ef83a9f22fc",
   "metadata": {},
   "outputs": [
    {
     "name": "stdout",
     "output_type": "stream",
     "text": [
      "martes\n"
     ]
    }
   ],
   "source": [
    "dia1,dia2,dia3,dia4,dia5,dia6,dia7=dias\n",
    "print(dia2)"
   ]
  },
  {
   "cell_type": "markdown",
   "id": "df835e6b-80f9-4299-b42a-8ff13d5e375a",
   "metadata": {},
   "source": [
    "### Retornando tuplas de funciones\n",
    "una utilidad importante es devolver una tupla de funciones, lo que permite que se tengan varios valores simltaneamente en el llamado de la función. Notese el siguiente ejemplo."
   ]
  },
  {
   "cell_type": "code",
   "execution_count": 22,
   "id": "20c9e58d-d971-4877-a3d0-eec63c34f27c",
   "metadata": {},
   "outputs": [
    {
     "name": "stdout",
     "output_type": "stream",
     "text": [
      "Conversion de tiempo\n"
     ]
    },
    {
     "name": "stdin",
     "output_type": "stream",
     "text": [
      "digita el valor en minutos del tiempo, 120\n"
     ]
    },
    {
     "name": "stdout",
     "output_type": "stream",
     "text": [
      "120.0 minutos son:\n",
      " 7200.0 segundos\n",
      " 2.0 horas\n",
      " 0.08333333333333333 dias\n"
     ]
    }
   ],
   "source": [
    "def tiempo(min):\n",
    "    segundos=min*60\n",
    "    horas=min/60\n",
    "    dias=horas/24\n",
    "    return dias, horas, segundos #este return está devolviendo una tupla\n",
    "\n",
    "# Llamando la funcion\n",
    "print(\"Conversion de tiempo\")\n",
    "minutos=float(input(\"digita el valor en minutos del tiempo,\"))\n",
    "dia,hor,seg=tiempo(minutos) # Notese como se guarda cada valor en una variable\n",
    "\n",
    "print(minutos, \"minutos son:\\n\",seg,\"segundos\\n\",hor,\"horas\\n\",dia,\"dias\")"
   ]
  },
  {
   "cell_type": "markdown",
   "id": "294afff4-ea84-4573-b856-efe99de91d67",
   "metadata": {},
   "source": [
    "## Pilas o stack\n",
    "El concepto de stack o pila se asocia precisamente al de una pila de elementos donde se aplica el criterio LIFO (Last In First Out) Ultimo en entrar primero en salir. Este concepto siempre lo he relacionado por ejemplo con una pila de platos uno encima de otro.\n",
    "\n",
    "Ingresar un elemento de la pila con el comando push()\n",
    "Sacar el ultimo elemento ingresado de la pila se hace con pop()\n",
    "\n",
    "Una de las aplicaciones de las pilas es la implementacion del deshacer y el rehacer en los programas o incluso las flechas de navegaion hacia delante o atras en los navegadores web.\n",
    "\n",
    "### uso de las pilas en Python\n",
    "La aplicacion de las pilas se hacen sobre las estructuras de las listas, veamos un ejemplo:\n"
   ]
  },
  {
   "cell_type": "code",
   "execution_count": 3,
   "id": "79f174fb-975d-4958-82d7-b80389d50488",
   "metadata": {},
   "outputs": [
    {
     "name": "stdout",
     "output_type": "stream",
     "text": [
      "[10, 'hola', False]\n",
      "[10, 'hola']\n"
     ]
    }
   ],
   "source": [
    "pila=[]\n",
    "pila.append(10)\n",
    "pila.append('hola')\n",
    "pila.append(False)\n",
    "print(pila)\n",
    "pila.pop()\n",
    "print(pila)"
   ]
  },
  {
   "cell_type": "markdown",
   "id": "c1feca8c-f592-40fc-94e0-9b801936585f",
   "metadata": {},
   "source": [
    "Se nota un uso normalito de pop() tal como se habia estudiado previamente, sn emabargo la teoria habla que pop() tiene un costo computacional alto cuando las listas son grandes (pues al parecer hace un recorrido de toda la lista). Es por eso que Python implementa una estructura o contenedor llamado `deque` que se encuentra en el modeulo `collections`. Los deques estan optimizados para el uso de push() y de pop()."
   ]
  },
  {
   "cell_type": "code",
   "execution_count": 9,
   "id": "a102ebba-9668-45c5-b433-9eed8e7dad96",
   "metadata": {},
   "outputs": [
    {
     "name": "stdout",
     "output_type": "stream",
     "text": [
      "deque([20, 'Hola', True])\n"
     ]
    }
   ],
   "source": [
    "from collections import deque\n",
    "pila= deque()\n",
    "pila.append(20)\n",
    "pila.append('Hola')\n",
    "pila.append(True)\n",
    "pila.append(21.21)\n",
    "pila.pop()\n",
    "print(pila)\n"
   ]
  },
  {
   "cell_type": "markdown",
   "id": "be2d0520-ef5e-48ff-855f-80de955f3f08",
   "metadata": {},
   "source": [
    "# Filas o queue\n",
    "Es el contrario a las pilas o stack ya que usan el principio FIFO (First In First Out), tal como funciona una fila en la realidad.\n",
    "Ejemplo de usos de las filas por ejemplo las colas de impresion en una impresora.\n",
    "Se usan los comando\n",
    "- enqueue() para ingresar elementos a la fila\n",
    "- dequeue() para sacar elementos de la fila\n",
    "\n",
    "Pero en realidad segun veo los ejemplos se usan igualmente los metdoos append() y pop() de las listas simples."
   ]
  },
  {
   "cell_type": "code",
   "execution_count": null,
   "id": "d21662d8-6498-4577-93c4-e3bf21e7d9c0",
   "metadata": {},
   "outputs": [],
   "source": [
    "jugadores=['Mao','Ramon','Camila','Mariangel']\n",
    "while jugadores!=[]:\n",
    "    j=jugadores.pop(0)\n",
    "    res=input(j+ \" quieres seguir jugando s o n\")\n",
    "    if res=='s' or res =='S':\n",
    "        print(\"Este es el turno del jugador\", j)\n",
    "        jugadores.append(j)\n",
    "print(\"Fin del juego no hay mas jugadores\")"
   ]
  },
  {
   "cell_type": "markdown",
   "id": "b1d25709-e96d-490a-97a4-37bbb38dbbca",
   "metadata": {},
   "source": [
    "El uso de listas simples para estos procesos no son tan optimos para cantidades grandes de datos, asi que igualmente se puede usar los deque para optimizar"
   ]
  },
  {
   "cell_type": "code",
   "execution_count": null,
   "id": "28fbd53f-c0aa-489b-b654-41fca9cb3e7a",
   "metadata": {},
   "outputs": [],
   "source": [
    "from collections import deque\n",
    "jugadores=['Mao','Ramon','Camila','Mariangel']\n",
    "d=deque(jugadores)\n",
    "while d!=[]:\n",
    "    j=d.popleft()\n",
    "    res=input(j+ \" quieres seguir jugando s o n\")\n",
    "    if res=='s' or res =='S':\n",
    "        print(\"Este es el turno del jugador\", j)\n",
    "        d.append(j)\n",
    "print(\"Fin del juego no hay mas jugadores\")\n"
   ]
  }
 ],
 "metadata": {
  "kernelspec": {
   "display_name": "Python 3 (ipykernel)",
   "language": "python",
   "name": "python3"
  },
  "language_info": {
   "codemirror_mode": {
    "name": "ipython",
    "version": 3
   },
   "file_extension": ".py",
   "mimetype": "text/x-python",
   "name": "python",
   "nbconvert_exporter": "python",
   "pygments_lexer": "ipython3",
   "version": "3.11.2"
  }
 },
 "nbformat": 4,
 "nbformat_minor": 5
}
