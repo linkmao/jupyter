{
 "cells": [
  {
   "cell_type": "markdown",
   "id": "1f9c8c78-b44f-4489-92cf-3f2e735e224c",
   "metadata": {},
   "source": [
    "# Rest Api"
   ]
  },
  {
   "cell_type": "markdown",
   "id": "551c8570-9e1c-43b4-a1c3-cac370857367",
   "metadata": {},
   "source": [
    "## Proposito\n",
    "Documentar una ruta clara paso a paso y replicable con facilidad de la creación de una rest api\n",
    "\n",
    "## Herramientas\n",
    "- Node js\n",
    "- Express"
   ]
  },
  {
   "cell_type": "markdown",
   "id": "31cbf8be-aeea-4af7-ab5f-c7ba864806e2",
   "metadata": {},
   "source": [
    "## Iniciar un proyecto en node js\n",
    "Se crea la carpeta del proyecto\n",
    "\n",
    "- Se incializa none\n",
    "```\n",
    "$ npm init\n",
    "```\n",
    "- Se instala express\n",
    "```\n",
    "$ npm i express\n",
    "```\n",
    "- Se crea el archivo `index.js` manualmente, por convención se usa la carpeta src para ello, coon por ejemplo un hola mundo\n",
    "```\n",
    "console.log(\"Hola mundo\")\n",
    "```"
   ]
  },
  {
   "cell_type": "markdown",
   "id": "442f4b88-0c15-45f7-8f3e-36c24b6a469e",
   "metadata": {},
   "source": [
    "### Correr el proyecto\n",
    "```\n",
    "$ node index.js\n",
    "```"
   ]
  },
  {
   "cell_type": "markdown",
   "id": "f6204a6e-cddd-4806-9a22-a587ad33dab5",
   "metadata": {},
   "source": [
    "### Instalacion de nodemon para desarrollo\n",
    "Para no estar tipeando la linea anterior, y que el programa siempre se ejecute cuando haya un cambio en el codigo, se recomienda instalar nodemon en modo desarrollador\n",
    "```\n",
    "$ npm i nodemon -D\n",
    "```\n",
    "Luego en `package.json` en la seccion script se agraga la linea\n",
    "\n",
    "\"dev\":\"nodemon ./src/index.js\"\n",
    "Con esa linea que es un script entonces correr el programa será entonces\n",
    "```\n",
    "$ npm run dev\n",
    "```"
   ]
  },
  {
   "cell_type": "markdown",
   "id": "595ad0c3-d086-4bf8-95d4-ad1ebb455021",
   "metadata": {},
   "source": [
    "### Elementos básicos para inciar un servidor\n",
    "Resumen\n",
    "1. importar express\n",
    "2. incializar un obejo de tipo express\n",
    "3. dar un valor o usar una constante para numero de puerto\n",
    "4. usar el metodo listen en el objeto tipo express instanciado\n",
    "\n",
    "Version tipo sintaxis:\n",
    "```\n",
    "const name = require('express')\n",
    "const app = name()\n",
    "app.set('port',3000)  or const port = 3000\n",
    "app.listen(puerto, function)\n",
    "```\n",
    "\n",
    "Version de ejemplo real:\n",
    "```\n",
    "const express = require('express')\n",
    "const app= express()\n",
    "app.set('port',3000) \n",
    "app.listen(app.get('port'),()=>{console.log(\"Servidor escuhando en puerto \"+ app.get('port'))})\n",
    "```\n",
    "en este punto se puede consultar en el navegador la direccion *localhost:3000* y se verá un error pero por lo menos ya se está escuchando."
   ]
  },
  {
   "cell_type": "markdown",
   "id": "44712458-aed9-41ca-83c9-451e4b3c45a3",
   "metadata": {},
   "source": [
    "### Elementos básicos de enrutado\n",
    "Lo relevante de express es que nos permite la creación de enrutado para las diferentes peticiones propias del protocolo HTTPs (get, put, post, delete). Solo la petición get se puede hacer desde el navegador, para probar las otras en la etapa de desarrollo se debe usar un cliente como *postman*\n",
    "\n",
    "Resumen:\n",
    "1. usar la sentencia app.use(express.json()) que permite recibir json desde postman o desde el cliente en genral\n",
    "2. declarar las rutas con sus nombres de ruta y los manejadores de ruta que son funciones\n",
    "3. importante el uso de los objetos req y res en la funciones para una adecuada captura de datos (req) y respuesta al servidor (res)\n",
    "\n",
    "Version tipo sintasys\n",
    "```\n",
    "app.use(express.json())   // este se usa si hay alguna peticion put desde un cliente externo como postman\n",
    "app.metodo('ruta',manejador de ruta(req,res))\n",
    "```\n",
    "Version de ejemplo real get basico\n",
    "```\n",
    "app.get('/',(req,res)=>{res.send(\"Hola mundo\")})\n",
    "```\n",
    "\n",
    "Version de ejemplo real get devolviendo un json\n",
    "```\n",
    "app.get('/',(req,res)=>{res.send(\"Hola mundo\")})\n",
    "```\n",
    "Version de ejemplo real put recibiendo un json desde postman\n",
    "```\n",
    "app.use(express.json())\n",
    "// Supongase que de postman se envia un json del tipo {\"data\":\"Mensaje o dato\"}\n",
    "app.put('/',(req,res)=>{\n",
    "    const {data}=req.body\n",
    "    res.send(\"Hola mundo el dato ingresado es: \" + data)})\n",
    "```\n",
    "\n",
    "Version de ejemplo real put usando como dato de entrata un parametro desde la url\n",
    "```\n",
    "// Supongase que de postman se envia un json del tipo {\"data\":\"Mensaje o dato\"}\n",
    "app.put('/:i',(req,res)=>{\n",
    "    const {i}=req.params\n",
    "    res.send(\"Hola mundo el dato ingresado por url es: \" + i)})\n",
    "```"
   ]
  },
  {
   "cell_type": "markdown",
   "id": "a45d74fa-58fe-44da-ac28-b911ba764e6d",
   "metadata": {},
   "source": [
    "## Conexión con base de datos\n",
    "Con la comprensión de la creación de servidores web con el uso de express, con la comprensión de lso metodos HTTP en las rutas, el siguiente paso conceptual corresponde a lo asociado a la comprensión de las base de datos y la conexión a ella desde el backend.\n",
    "\n",
    "### Conexión a la base de datos\n",
    "De ante mano se debe estar ejecutando mongo\n",
    "\n",
    "```\n",
    "const mongoose=require('mongoose')\n",
    "mongoose.conect(url,{obj confg}).then(db=>msg).catch.(err=>msg)\n",
    "```\n",
    "url debe ser la url de conxion a la base de datos, que puede ser de manera local o remota usando un servicio como mongo atlas, la url de conexión se debe guardar en una variable de entorno\n",
    "\n",
    "Aplicacion real\n",
    "```\n",
    "const mongoose= require('momgoose')\n",
    "mongoose.conect(process.env.MONGODB_URI,{\n",
    "userNewUrlParser:true\n",
    "})\n",
    ".then(db=>console.log(\"Base de datos connecatda con exito\"))\n",
    ".catch(err=>console.log(err))\n",
    "\n",
    "\n",
    "```"
   ]
  },
  {
   "cell_type": "code",
   "execution_count": null,
   "id": "141a84d6-01e1-4119-896d-a72504baf45f",
   "metadata": {},
   "outputs": [],
   "source": []
  },
  {
   "cell_type": "code",
   "execution_count": null,
   "id": "b6c4836a-ea3e-480d-a947-17b8d14ad995",
   "metadata": {},
   "outputs": [],
   "source": []
  }
 ],
 "metadata": {
  "kernelspec": {
   "display_name": "JavaScript (Node.js)",
   "language": "javascript",
   "name": "javascript"
  },
  "language_info": {
   "file_extension": ".js",
   "mimetype": "application/javascript",
   "name": "javascript",
   "version": "16.20.2"
  }
 },
 "nbformat": 4,
 "nbformat_minor": 5
}
