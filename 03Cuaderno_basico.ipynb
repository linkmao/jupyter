{
 "cells": [
  {
   "cell_type": "markdown",
   "metadata": {
    "id": "q6F3uqYgk_Us"
   },
   "source": [
    "# Ejemplo básico de colab\n",
    "\n",
    "En este cuaderno se muestra con ejemplos sencillos el uso de colab con sus doscaracteriticas.\n",
    "\n",
    "+   Cuadros de textos\n",
    "+ Cuadros de codigos"
   ]
  },
  {
   "cell_type": "markdown",
   "metadata": {
    "id": "XDcLZKoTl9t6"
   },
   "source": [
    "## Cuadros de texto (markdown)\n",
    "En los cuadros de texto se usa como fromato básico el  `markdown` con totas las posibilidades que este ofrece, por ejemplo el siguiente es un cuadro de código\n",
    "\n",
    "```\n",
    "print (\"hola mundo\")\n",
    "a=2\n",
    "```\n",
    "Como es de esperarse se pueden usar todos los comandos de markdown\n"
   ]
  },
  {
   "cell_type": "markdown",
   "metadata": {
    "id": "i0iRo0-xnMYN"
   },
   "source": [
    "## Diagramación con html\n",
    "De igual manera se puede usar HTML para la diagramación de elementos web.\n",
    "\n",
    "Los siguientes elementos estan construidos con el etiquetado HTML\n",
    "\n",
    "<h1> Mi portafolio </h1>\n",
    "<h2> Como acceder? </h2>\n",
    "Para acceder a mi portafolio web solo es necesario hacer click en el enlace que dispongo a continuación\n",
    "<a href=\"http://cv.maolink.co\">Mi portafolio web</a>\n",
    "\n",
    "<button>Push me!! </button>"
   ]
  },
  {
   "cell_type": "markdown",
   "metadata": {
    "id": "0o0EJsCm2XC4"
   },
   "source": [
    "## Mi primer linea de código\n",
    "A continuación se muestra la ejecución de una primera linea de código básica, la tan conocida `hola mundo`"
   ]
  },
  {
   "cell_type": "code",
   "execution_count": 2,
   "metadata": {
    "cellView": "form",
    "colab": {
     "base_uri": "https://localhost:8080/"
    },
    "id": "iNnBhlA02pre",
    "outputId": "bdcc4171-9f93-4739-f820-f93717823a0c"
   },
   "outputs": [
    {
     "name": "stdout",
     "output_type": "stream",
     "text": [
      "Esta es una ejecucion donde tambien hay un markdown\n"
     ]
    }
   ],
   "source": [
    "# @title código con titulo\n",
    "# @markdown Este es un pequeño ejemplo de código, que está precedido de un título y un texto dentro del mismo entorno de programación, es mezclar markdown con código\n",
    "\n",
    "print(\"Esta es una ejecucion donde tambien hay un markdown\")\n"
   ]
  },
  {
   "cell_type": "code",
   "execution_count": 6,
   "metadata": {
    "colab": {
     "base_uri": "https://localhost:8080/"
    },
    "id": "LFSPl9ph1m4O",
    "outputId": "868989d9-c5b9-4e62-cbc3-91d2a81e8a5e"
   },
   "outputs": [
    {
     "name": "stdout",
     "output_type": "stream",
     "text": [
      "hola mundo he despertado en este cuaderno de Jupiter\n"
     ]
    }
   ],
   "source": [
    "print (\"hola mundo he despertado en este cuaderno de Jupiter\")"
   ]
  },
  {
   "cell_type": "code",
   "execution_count": 1,
   "metadata": {
    "id": "cOQ8lR-f3kVc"
   },
   "outputs": [
    {
     "name": "stderr",
     "output_type": "stream",
     "text": [
      "\"touch\" no se reconoce como un comando interno o externo,\n",
      "programa o archivo por lotes ejecutable.\n"
     ]
    }
   ],
   "source": [
    "#  @title Accediendo a la consola\n",
    "# @markdown Colab está montado sobre una maquina linux, desde el entorno de ejecución entonces se puede acceder al SO por medio del comando `!` por ejemplo `! mkdir prueba`crea un directorio llamado prueba\n",
    "\n",
    "! mkdir prueba\n",
    "! cd prueba\n",
    "! touch maolink.txt"
   ]
  }
 ],
 "metadata": {
  "colab": {
   "provenance": []
  },
  "kernelspec": {
   "display_name": "Python 3 (ipykernel)",
   "language": "python",
   "name": "python3"
  },
  "language_info": {
   "codemirror_mode": {
    "name": "ipython",
    "version": 3
   },
   "file_extension": ".py",
   "mimetype": "text/x-python",
   "name": "python",
   "nbconvert_exporter": "python",
   "pygments_lexer": "ipython3",
   "version": "3.11.2"
  }
 },
 "nbformat": 4,
 "nbformat_minor": 4
}
