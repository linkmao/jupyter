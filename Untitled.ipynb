{
 "cells": [
  {
   "cell_type": "code",
   "execution_count": 19,
   "id": "43460782-5761-4c13-8138-131539d60a63",
   "metadata": {},
   "outputs": [
    {
     "name": "stdout",
     "output_type": "stream",
     "text": [
      "2020-12-31T00:00:00.000Z\n"
     ]
    }
   ],
   "source": [
    "var noche = new Date(\"2020-12-31\")\n",
    "console.log(noche)"
   ]
  },
  {
   "cell_type": "code",
   "execution_count": 18,
   "id": "90567776-f86d-4f49-a830-2d39abdcbf79",
   "metadata": {},
   "outputs": [
    {
     "name": "stdout",
     "output_type": "stream",
     "text": [
      "2020-12-31T00:00:00.000Z\n"
     ]
    }
   ],
   "source": [
    "console.log(noche)"
   ]
  },
  {
   "cell_type": "code",
   "execution_count": 20,
   "id": "11e09bbf-b76a-4baa-8867-8111132650c2",
   "metadata": {},
   "outputs": [
    {
     "name": "stdout",
     "output_type": "stream",
     "text": [
      "2025-02-17T01:32:42.294Z\n"
     ]
    }
   ],
   "source": [
    "var tormento = new Date()\n",
    "console.log(tormento)"
   ]
  },
  {
   "cell_type": "code",
   "execution_count": 25,
   "id": "1b88b61b-2c7e-4da8-b4c8-889b6053f53a",
   "metadata": {},
   "outputs": [
    {
     "name": "stdout",
     "output_type": "stream",
     "text": [
      "2020\n"
     ]
    }
   ],
   "source": [
    "var dato = new Date(\"2020-12-31\").getFullYear()\n",
    "console.log(dato)"
   ]
  }
 ],
 "metadata": {
  "kernelspec": {
   "display_name": "JavaScript (Node.js)",
   "language": "javascript",
   "name": "javascript"
  },
  "language_info": {
   "file_extension": ".js",
   "mimetype": "application/javascript",
   "name": "javascript",
   "version": "16.20.2"
  }
 },
 "nbformat": 4,
 "nbformat_minor": 5
}
