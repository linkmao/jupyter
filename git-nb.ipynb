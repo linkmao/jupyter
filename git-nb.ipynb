{
 "cells": [
  {
   "cell_type": "markdown",
   "id": "ed6b03ba-6a93-47b2-9893-232bb572042d",
   "metadata": {},
   "source": [
    "# Git\n",
    "## Uso de Git y comandos básicos\n",
    "### Descripción\n",
    "Git es un pequeño programa que permite hacer gestion en el versinado y el control de cambios asociados al avance de los proyectos de código\n",
    "\n",
    "### Agregar archivos previo a un commit\n",
    "```\n",
    "git add .\n",
    "```\n",
    "\n",
    "### Hacer commit\n",
    "```\n",
    "git commit -m \"mensaje\"\n",
    "```\n",
    "\n",
    "### Listar los commit\n",
    "```\n",
    "git log\n",
    "git log --oneline  (lista los commit en una linea y resumidos) \n",
    "```\n",
    "\n",
    "### Listar las ramas\n",
    "```\n",
    "git branch\n",
    "```\n",
    "### Renombrar rama actual\n",
    "```\n",
    " git branch -M <new-name>\n",
    "```\n",
    "\n",
    "\n",
    "### Listar variables de remote\n",
    "```\n",
    " git remote\n",
    "```\n",
    "\n",
    "### Agregar origin para remote\n",
    "```\n",
    " git remote add origin <url-repo>\n",
    "```\n",
    "### Hacer push a la url en origin de una rama\n",
    "```\n",
    "git push -u origin <rama>\n",
    "```\n",
    "### Clonar un proyecto\n",
    "```\n",
    "git clone [github-url]\n",
    "```\n"
   ]
  },
  {
   "cell_type": "code",
   "execution_count": null,
   "id": "e55636ab-cf44-454d-a357-fe5de998789c",
   "metadata": {},
   "outputs": [],
   "source": []
  }
 ],
 "metadata": {
  "kernelspec": {
   "display_name": "JavaScript (Node.js)",
   "language": "javascript",
   "name": "javascript"
  },
  "language_info": {
   "file_extension": ".js",
   "mimetype": "application/javascript",
   "name": "javascript",
   "version": "16.20.2"
  }
 },
 "nbformat": 4,
 "nbformat_minor": 5
}
