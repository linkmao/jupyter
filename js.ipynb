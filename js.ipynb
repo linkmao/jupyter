{
 "cells": [
  {
   "cell_type": "markdown",
   "id": "888e6249-7e9f-4d86-bdf2-29d87576c417",
   "metadata": {},
   "source": [
    "# Apuntes generales estructuras básicas en javascript\n",
    "\n",
    "En este cuaderno hay algunos apuntes básicos de `Javascript`, entre lo que se encuentra  *funciones*, *listas* entre otros elementos. Se aprovecha la versatilidad de los notebook, para comprobr en tiempo real los diferntes códigos."
   ]
  },
  {
   "cell_type": "markdown",
   "id": "877cf0b3-c1f7-43eb-9bcc-8e392c905abd",
   "metadata": {},
   "source": [
    "## Funciones"
   ]
  },
  {
   "cell_type": "markdown",
   "id": "fafe65c7-ee44-4dc6-9f5e-fb7acedf212f",
   "metadata": {},
   "source": [
    "### Usando notación tradicional\n",
    "Se usa la notación tradicional en la definicion de funciones"
   ]
  },
  {
   "cell_type": "code",
   "execution_count": 2,
   "id": "ad75dd49-f047-49c4-ac98-d3bba3b49b2d",
   "metadata": {},
   "outputs": [],
   "source": [
    "function sumaDosNumeros (a,b){\n",
    "return a+b\n",
    "}"
   ]
  },
  {
   "cell_type": "code",
   "execution_count": 3,
   "id": "6941980b-ebee-45ae-9378-0bb63b1528e3",
   "metadata": {},
   "outputs": [
    {
     "name": "stdout",
     "output_type": "stream",
     "text": [
      "50\n"
     ]
    }
   ],
   "source": [
    "console.log(sumaDosNumeros(40,10))"
   ]
  },
  {
   "cell_type": "markdown",
   "id": "14b71ba1-cb12-40a1-af7e-3ae46547aa48",
   "metadata": {},
   "source": [
    "### Usando de flat notation function\n",
    "Se muestra la forma alternativa de definir funciones, esta se denomina `flat notation function`"
   ]
  },
  {
   "cell_type": "code",
   "execution_count": 9,
   "id": "6cbe8b63-6611-49e7-b9c6-dfc8e89df999",
   "metadata": {},
   "outputs": [],
   "source": [
    "const diezUnidadesMenos = a =>{\n",
    "    return a-10\n",
    "}"
   ]
  },
  {
   "cell_type": "code",
   "execution_count": 10,
   "id": "dd11931b-7280-4fc3-b806-da2b7f819b3e",
   "metadata": {},
   "outputs": [
    {
     "name": "stdout",
     "output_type": "stream",
     "text": [
      "10\n"
     ]
    }
   ],
   "source": [
    "console.log(diezUnidadesMenos(20))"
   ]
  },
  {
   "cell_type": "markdown",
   "id": "c6221490-2c83-4576-8c1f-189f58d8772d",
   "metadata": {},
   "source": [
    "### Función sin el uso de return\n",
    "Cuando una función está escrita en una sola linea es posible omitir la palabra clave `return`"
   ]
  },
  {
   "cell_type": "code",
   "execution_count": 7,
   "id": "d1f0bb5a-8be7-43a1-9346-975f1d09cb3a",
   "metadata": {},
   "outputs": [],
   "source": [
    "const suma =(a,b)=> a+b"
   ]
  },
  {
   "cell_type": "code",
   "execution_count": 8,
   "id": "c03b2573-2743-49fa-915a-04d2c86697c8",
   "metadata": {},
   "outputs": [
    {
     "name": "stdout",
     "output_type": "stream",
     "text": [
      "19\n"
     ]
    }
   ],
   "source": [
    "console.log(suma(15,4))"
   ]
  },
  {
   "cell_type": "markdown",
   "id": "54ac4351-02cd-4e59-bce4-326e16117348",
   "metadata": {},
   "source": [
    "### Función de funcion\n",
    "Explicación pendinete"
   ]
  },
  {
   "cell_type": "code",
   "execution_count": 9,
   "id": "c35f42b8-d956-47e7-8a0b-58d371b9e0a8",
   "metadata": {},
   "outputs": [],
   "source": [
    "const parteUno = txt1=>txt2=> (txt1+txt2)\n",
    "const t=parteUno('hola')\n",
    "const TEXTO = t('mundo')"
   ]
  },
  {
   "cell_type": "code",
   "execution_count": 10,
   "id": "3bd2a33d-5a87-40f7-afa2-fb5884bf21d2",
   "metadata": {},
   "outputs": [
    {
     "name": "stdout",
     "output_type": "stream",
     "text": [
      "holamundo\n"
     ]
    }
   ],
   "source": [
    "console.log(TEXTO)"
   ]
  },
  {
   "cell_type": "markdown",
   "id": "16dcdc77-7610-4652-b33a-b48cbddfd36f",
   "metadata": {},
   "source": [
    "### Funciones Callback\n",
    "Entiendo este tipo de funciones como aquellas que se pasan de argumento dentro de otra funcion, analicemos este ejemplo"
   ]
  },
  {
   "cell_type": "code",
   "execution_count": 11,
   "id": "9b79f973-9093-470e-bbbf-1ce464b28f01",
   "metadata": {},
   "outputs": [],
   "source": [
    "const callBack = valor=>console.log(valor)"
   ]
  },
  {
   "cell_type": "markdown",
   "id": "e4e5f1a4-f33d-4c79-82a4-f84b3fa1a99f",
   "metadata": {},
   "source": [
    "La funcion anterior simplemente lo que hace es esperar un `valor` para mostrarlo en cosola"
   ]
  },
  {
   "cell_type": "code",
   "execution_count": 12,
   "id": "b915490b-d68d-418b-8d20-5b536ac02c16",
   "metadata": {},
   "outputs": [],
   "source": [
    "const sumaCallback = (a,b,cb)=>cb(a+b) "
   ]
  },
  {
   "cell_type": "markdown",
   "id": "6de94ad5-88c8-476b-9db4-902a8eddb999",
   "metadata": {},
   "source": [
    "La función anterior se define para recibir, dos argumentos y devuelve una funcion que se llama cb el cual sumará los dos argumentos anteriores"
   ]
  },
  {
   "cell_type": "code",
   "execution_count": 13,
   "id": "84ab1f69-0677-4b73-bc0f-936989150e99",
   "metadata": {},
   "outputs": [
    {
     "name": "stdout",
     "output_type": "stream",
     "text": [
      "7\n"
     ]
    }
   ],
   "source": [
    "sumaCallback(2,5,callBack)"
   ]
  },
  {
   "cell_type": "markdown",
   "id": "8fa55bc4-1fe7-4c0b-b5d4-ce5412461d24",
   "metadata": {},
   "source": [
    "Finalmente se observa como se llama la funcion, se le pasa los dos argumentos pero tambien se le pasa la funcion previamente definida. De todas maneras esto sigue siendo un poco enredado hay que desenredarlo de a poco."
   ]
  },
  {
   "cell_type": "markdown",
   "id": "782f12d1-f01a-4b8e-b429-24f76521bb5e",
   "metadata": {},
   "source": [
    "### Funciones que devuelven funciones\n",
    "Una de las potencias de JS es que las funciones retornan cualquier tipo de datos, incluso otra funcion, en este ejemplo se muestra como se implementa y se ejecuta."
   ]
  },
  {
   "cell_type": "code",
   "execution_count": 14,
   "id": "c87707e4-720b-484d-ade6-6a1cfb1d5e4e",
   "metadata": {},
   "outputs": [],
   "source": [
    "function unir (palabra1) {\n",
    "    return function (palabra2) {\n",
    "        return (palabra1+' ' +palabra2)\n",
    "     }\n",
    "}"
   ]
  },
  {
   "cell_type": "code",
   "execution_count": 15,
   "id": "ec93e6d1-3aea-4b5a-93a2-e68324a7c34b",
   "metadata": {},
   "outputs": [
    {
     "name": "stdout",
     "output_type": "stream",
     "text": [
      "hola mundo\n"
     ]
    }
   ],
   "source": [
    "console.log(unir('hola')('mundo'))"
   ]
  },
  {
   "cell_type": "markdown",
   "id": "c42ee671-423c-47ad-b377-ba214783b232",
   "metadata": {},
   "source": [
    "### Valores por defecto en las funciones\n",
    "Al momento de declarar las funciones, cuando se definen los argumentos alli se pueden inicializar, eso se constituye en los valores por defecto de los argumentos"
   ]
  },
  {
   "cell_type": "code",
   "execution_count": 4,
   "id": "d4c595c1-adb3-48fd-97ec-0bed9d9179e6",
   "metadata": {},
   "outputs": [],
   "source": [
    "const defecto = (x=0,y=0)=> x+y"
   ]
  },
  {
   "cell_type": "markdown",
   "id": "3e171650-f167-407a-9844-d4e4d8b69640",
   "metadata": {},
   "source": [
    "A continuacion se llama la funcion sin inicializar nada"
   ]
  },
  {
   "cell_type": "code",
   "execution_count": 5,
   "id": "e962aa8c-97e0-4ed2-b6af-f4dc97b41529",
   "metadata": {},
   "outputs": [
    {
     "name": "stdout",
     "output_type": "stream",
     "text": [
      "0\n"
     ]
    }
   ],
   "source": [
    "console.log(defecto())"
   ]
  },
  {
   "cell_type": "markdown",
   "id": "5a912939-4542-4046-85ea-c2c6adcabc48",
   "metadata": {},
   "source": [
    "A continuacion se llama la funcion dando valor a x"
   ]
  },
  {
   "cell_type": "code",
   "execution_count": 6,
   "id": "af92f2ef-7fea-48ab-a5ff-708a51d18991",
   "metadata": {},
   "outputs": [
    {
     "name": "stdout",
     "output_type": "stream",
     "text": [
      "3\n"
     ]
    }
   ],
   "source": [
    "console.log(defecto(3))"
   ]
  },
  {
   "cell_type": "markdown",
   "id": "a6a8f67b-8c35-4c88-9e28-9c8aeed415c4",
   "metadata": {},
   "source": [
    "A continuación se llama la funcion inicializando el segundo parametro"
   ]
  },
  {
   "cell_type": "code",
   "execution_count": 11,
   "id": "dbec6a4e-9c54-4fd9-9df8-0f0b24a28875",
   "metadata": {},
   "outputs": [
    {
     "name": "stdout",
     "output_type": "stream",
     "text": [
      "7\n"
     ]
    }
   ],
   "source": [
    "console.log(defecto(2,5))"
   ]
  },
  {
   "cell_type": "markdown",
   "id": "e7cc0061-c8c1-4a6d-859b-ef8c5a51f280",
   "metadata": {},
   "source": [
    "Finalmente se llama la funcion usando nuevos valores para los argumentos"
   ]
  },
  {
   "cell_type": "code",
   "execution_count": 12,
   "id": "a457df81-0208-4c01-ba66-e85e6d82d38c",
   "metadata": {},
   "outputs": [
    {
     "name": "stdout",
     "output_type": "stream",
     "text": [
      "20\n"
     ]
    }
   ],
   "source": [
    "console.log(defecto(undefined,20))"
   ]
  },
  {
   "cell_type": "markdown",
   "id": "b7f1de31-b370-4c8d-8e20-206dba7537c4",
   "metadata": {},
   "source": [
    "### Funciones inline\n",
    "Son funciones sencillas de una sola linea sin el uso del return"
   ]
  },
  {
   "cell_type": "code",
   "execution_count": 20,
   "id": "0993a93c-2b74-4913-b4ce-696b34adfdba",
   "metadata": {},
   "outputs": [],
   "source": [
    "const showValor=()=> 20\n",
    "const showTexto=()=> 'funcion con hola mundo'\n",
    "const showArray=()=> [2,4,5]\n",
    "const showObject=()=> ({name:'Maolink'})"
   ]
  },
  {
   "cell_type": "code",
   "execution_count": 21,
   "id": "fc9f5ca4-5eac-480f-91ff-23e533aaea58",
   "metadata": {},
   "outputs": [
    {
     "name": "stdout",
     "output_type": "stream",
     "text": [
      "20\n",
      "funcion con hola mundo\n",
      "[ 2, 4, 5 ]\n",
      "{ name: 'Maolink' }\n"
     ]
    }
   ],
   "source": [
    "console.log(showValor())\n",
    "console.log(showTexto())\n",
    "console.log(showArray())\n",
    "console.log(showObject())"
   ]
  },
  {
   "cell_type": "markdown",
   "id": "974ae447-fd99-4113-bc52-4571a95bfe0f",
   "metadata": {},
   "source": [
    "### Uso de la función reduce"
   ]
  },
  {
   "cell_type": "code",
   "execution_count": 22,
   "id": "cb769432-f3d6-44f6-8de9-db6c7ac8117e",
   "metadata": {},
   "outputs": [
    {
     "name": "stdout",
     "output_type": "stream",
     "text": [
      "hola\n"
     ]
    }
   ],
   "source": [
    "console.log(\"hola\")"
   ]
  },
  {
   "cell_type": "markdown",
   "id": "264a0c00-2c37-4e28-9ce6-0433ca55953c",
   "metadata": {},
   "source": [
    "## Condicionales\n",
    "Algunos apuntes con respecto a los condicionales"
   ]
  },
  {
   "cell_type": "markdown",
   "id": "841e917f-7eab-4257-bcea-f925d6b847b7",
   "metadata": {},
   "source": [
    "### Condicional reducido\n",
    "Este tambien recibe el nombre de operador ternario y sirve para obtener un booleano y la asignacion de un valor a una variable segun el resultado."
   ]
  },
  {
   "cell_type": "code",
   "execution_count": 23,
   "id": "66b365e3-7404-45c7-8620-bcc0cb64c217",
   "metadata": {},
   "outputs": [
    {
     "data": {
      "text/plain": [
       "false"
      ]
     },
     "execution_count": 23,
     "metadata": {},
     "output_type": "execute_result"
    }
   ],
   "source": [
    "const m=1\n",
    "const n=1\n",
    "var p=true\n",
    "{m+n==1 ? p=true:p=false}"
   ]
  },
  {
   "cell_type": "markdown",
   "id": "9e16c567-d0af-464d-afdf-1992e26204d3",
   "metadata": {},
   "source": [
    "## Arrays\n",
    "Algunos elementos propios de los arrays y de las funciones para el tratamiento de la información de los arrays se presentan a continuación."
   ]
  },
  {
   "cell_type": "markdown",
   "id": "175ebb55-037c-4473-ad81-02995ec31d52",
   "metadata": {},
   "source": [
    "### json\n",
    "Los json son una de las estructuras de datos mas importantes en JS, a continuación se presenta un json, contenido en un array para su tratamiento y uso en este notebook.\n",
    "Para acceder a la información de este json se usó la constante `data`"
   ]
  },
  {
   "cell_type": "code",
   "execution_count": 1,
   "id": "810811c6-fb44-4aed-8924-51556398ca19",
   "metadata": {},
   "outputs": [],
   "source": [
    "const data=[\n",
    "  {\n",
    "    \"userId\": 1,\n",
    "    \"id\": 1,\n",
    "    \"title\": \"sunt aut facere repellat provident occaecati excepturi optio reprehenderit\",\n",
    "    \"body\": \"quia et suscipit\\nsuscipit recusandae consequuntur expedita et cum\\nreprehenderit molestiae ut ut quas totam\\nnostrum rerum est autem sunt rem eveniet architecto\"\n",
    "  },\n",
    "  {\n",
    "    \"userId\": 1,\n",
    "    \"id\": 2,\n",
    "    \"title\": \"qui est esse\",\n",
    "    \"body\": \"est rerum tempore vitae\\nsequi sint nihil reprehenderit dolor beatae ea dolores neque\\nfugiat blanditiis voluptate porro vel nihil molestiae ut reiciendis\\nqui aperiam non debitis possimus qui neque nisi nulla\"\n",
    "  },\n",
    "  {\n",
    "    \"userId\": 1,\n",
    "    \"id\": 3,\n",
    "    \"title\": \"ea molestias quasi exercitationem repellat qui ipsa sit aut\",\n",
    "    \"body\": \"et iusto sed quo iure\\nvoluptatem occaecati omnis eligendi aut ad\\nvoluptatem doloribus vel accusantium quis pariatur\\nmolestiae porro eius odio et labore et velit aut\"\n",
    "  },\n",
    "  {\n",
    "    \"userId\": 1,\n",
    "    \"id\": 4,\n",
    "    \"title\": \"eum et est occaecati\",\n",
    "    \"body\": \"ullam et saepe reiciendis voluptatem adipisci\\nsit amet autem assumenda provident rerum culpa\\nquis hic commodi nesciunt rem tenetur doloremque ipsam iure\\nquis sunt voluptatem rerum illo velit\"\n",
    "  }\n",
    "]"
   ]
  },
  {
   "cell_type": "markdown",
   "id": "c574b2f1-255e-4762-989a-9f4912c1a587",
   "metadata": {},
   "source": [
    "### Accediendo e imprimiento un elemento json\n",
    "Accediendo por ejemplo al tercer registro"
   ]
  },
  {
   "cell_type": "code",
   "execution_count": 2,
   "id": "0900cc9e-1246-460a-a474-19f71dd38285",
   "metadata": {},
   "outputs": [
    {
     "name": "stdout",
     "output_type": "stream",
     "text": [
      "{\n",
      "  userId: 1,\n",
      "  id: 4,\n",
      "  title: 'eum et est occaecati',\n",
      "  body: 'ullam et saepe reiciendis voluptatem adipisci\\n' +\n",
      "    'sit amet autem assumenda provident rerum culpa\\n' +\n",
      "    'quis hic commodi nesciunt rem tenetur doloremque ipsam iure\\n' +\n",
      "    'quis sunt voluptatem rerum illo velit'\n",
      "}\n"
     ]
    }
   ],
   "source": [
    "console.log(data[3])"
   ]
  },
  {
   "cell_type": "markdown",
   "id": "54a2594f-89f5-4a06-afac-cbc73e4ed412",
   "metadata": {},
   "source": [
    "## Algunos nuevos métodos en JS Ecmascript 2023\n",
    "A continuación son los apuntes tomados del video de fazt <a href=\"https://www.youtube.com/watch?v=TvVgkM3LEac&t=174s\">Nuevos metodos de arreglos Ecmascript 2023</a>, en el se muestran algunmos métodos nuevos, pero que en general lo que buscan es que la aplicación del método no altere el array original sino que devuelva una copia modificada del arreglo.\n",
    "\n",
    "**Importante:** Los nuevos métodos solo funcionan para versiones de node superior a v 20, por lo que seguramente los resultados de cada uno de estos ejemplo acá en Jupyter no funcionen, pues a la fecha, 26 de diciembre Jupyter solo me ejecuta Node con versiones inferiores a la 20, posibleente en algun monento lo actualicen para que soporten versiones de node superior a la 20.\n",
    "\n",
    "Para que no haya dificultad con la ejecución en este notebook, se omite la sintaxis `const` para la declaración tipica en js, ya que al ser constantes con el notebok se genera un problema, pero es buen hábito de programación usar el const"
   ]
  },
  {
   "cell_type": "markdown",
   "id": "31e2b099-ff9a-4adf-a971-cdc96de81327",
   "metadata": {},
   "source": [
    "## find()\n",
    "Con este metodo se busca un valor específico en el arreglo\n",
    "Se muestra 3 formas disntitas de usar el método find, el últmo ejemplo ademas de encontrar el resultado buscado se muestra en pantalla los resultados.\n",
    "En todos los casos `find` siempre busca de izquierda a derecha\n"
   ]
  },
  {
   "cell_type": "code",
   "execution_count": null,
   "id": "06e3f252-c99c-4f25-8987-3884f57a4b03",
   "metadata": {},
   "outputs": [],
   "source": [
    "dataNumeros = [10, 15, 20, 7, 87, 65, 100, 1, 3]\n",
    "res=dataNumeros.find(x=> x==100)\n",
    "console.log(res)"
   ]
  },
  {
   "cell_type": "code",
   "execution_count": 3,
   "id": "c554141e-06b5-4b53-9fc6-456f674cdb0c",
   "metadata": {},
   "outputs": [
    {
     "name": "stdout",
     "output_type": "stream",
     "text": [
      "100\n"
     ]
    }
   ],
   "source": [
    "dataNumeros = [10, 15, 20, 7, 87, 65, 100, 1, 3]\n",
    "res = dataNumeros.find(x=>{\n",
    "      return x==100\n",
    "   }\n",
    ")\n",
    "console.log(res)"
   ]
  },
  {
   "cell_type": "code",
   "execution_count": 1,
   "id": "9bcf1e79-031f-4066-a925-130d709fa136",
   "metadata": {},
   "outputs": [
    {
     "name": "stdout",
     "output_type": "stream",
     "text": [
      "10\n",
      "15\n",
      "20\n",
      "7\n",
      "87\n",
      "65\n",
      "100\n",
      "100\n"
     ]
    }
   ],
   "source": [
    "dataNumeros = [10, 15, 20, 7, 87, 65, 100, 1, 3]\n",
    "res = dataNumeros.find(x=>{\n",
    "  console.log(x)\n",
    "  if (x==100) {\n",
    "    return x\n",
    "  }\n",
    "})\n",
    "console.log(res)"
   ]
  },
  {
   "cell_type": "markdown",
   "id": "c05d154d-7d1e-4427-8afa-62bef1c9cf3a",
   "metadata": {},
   "source": [
    "## findLast() (node superior v20)\n",
    "En este caso funciona igual que find solo que la bsuqueda la hace de derecha a izquierda (Obviamente no funciona por que requiere node superior al 20)"
   ]
  },
  {
   "cell_type": "code",
   "execution_count": null,
   "id": "6e8ec584-7970-41d8-91f5-604cdf7bc565",
   "metadata": {},
   "outputs": [],
   "source": [
    "dataNumeros = [10, 15, 20, 7, 87, 65, 100, 1, 3]\n",
    "res = dataNumeros.findLast(x=>{\n",
    "   console.log(x)\n",
    "   if (x==100) {\n",
    "     return x\n",
    "   }\n",
    " })"
   ]
  },
  {
   "cell_type": "markdown",
   "id": "88f024b0-df91-4c9e-92bb-04d6e098e992",
   "metadata": {},
   "source": [
    "## findIndex()\n",
    "De igualmanera existe el metodo findIndex que permite conocer la posición del elemento buscado, en este caso comenzando de izquierda a derecha del array"
   ]
  },
  {
   "cell_type": "code",
   "execution_count": 5,
   "id": "c3bfce78-0080-4dad-94b4-9119d71cc115",
   "metadata": {},
   "outputs": [
    {
     "data": {
      "text/plain": [
       "6"
      ]
     },
     "execution_count": 5,
     "metadata": {},
     "output_type": "execute_result"
    }
   ],
   "source": [
    "dataNumeros = [10, 15, 20, 7, 87, 65, 100, 1, 3]\n",
    "res = dataNumeros.findIndex(x => {\n",
    "   //console.log(x) // Muestra todos los elementos recorrdios\n",
    "   if (x == 100) {\n",
    "     return \"La posisción del elemento buscado es: \"\n",
    "   }\n",
    " }\n",
    ")"
   ]
  },
  {
   "cell_type": "markdown",
   "id": "8bf9a057-2748-429d-9168-b7d45e317819",
   "metadata": {},
   "source": [
    "## findLastIndex()  (node superior V20)\n",
    "Igual que el método anterior, pero iniciando la busqueda de derecha a iquierda."
   ]
  },
  {
   "cell_type": "code",
   "execution_count": null,
   "id": "b93e07ae-d7a3-40d1-bcf7-f484134d1de4",
   "metadata": {},
   "outputs": [],
   "source": [
    "dataNumeros = [10, 15, 20, 7, 87, 65, 100, 1, 3]\n",
    "res = dataNumeros.findLastIndex(x => {\n",
    "   console.log(x) // Muestra todos los elementos recorrdios\n",
    "   if (x == 100) {\n",
    "     return x\n",
    "   }\n",
    " }\n",
    ")"
   ]
  },
  {
   "cell_type": "markdown",
   "id": "f5a3f867-f46c-458c-9cec-5a6764abc0cd",
   "metadata": {},
   "source": [
    "## reverse()\n",
    "Cambia el orden del arreglo original "
   ]
  },
  {
   "cell_type": "code",
   "execution_count": 6,
   "id": "b104eab5-1ebd-49e1-ac50-4629b954fbb1",
   "metadata": {},
   "outputs": [
    {
     "name": "stdout",
     "output_type": "stream",
     "text": [
      "Notese como el arreglo dataNumeros original ha cambiado [\n",
      "  3,  1, 100, 65, 87,\n",
      "  7, 20,  15, 10\n",
      "]\n",
      "Y este es el resultado que arroja el método  [\n",
      "  3,  1, 100, 65, 87,\n",
      "  7, 20,  15, 10\n",
      "]\n"
     ]
    }
   ],
   "source": [
    "dataNumeros = [10, 15, 20, 7, 87, 65, 100, 1, 3]\n",
    "res =dataNumeros.reverse()\n",
    "console.log(\"Notese como el arreglo dataNumeros original ha cambiado\", dataNumeros)\n",
    "console.log(\"Y este es el resultado que arroja el método \", res)"
   ]
  },
  {
   "cell_type": "markdown",
   "id": "db36de4e-afa2-4d3f-9c1f-d49ffb5863de",
   "metadata": {},
   "source": [
    "## toReversed() (node superior V20)\n",
    "El metodo toReversed lo que hace es que no me cambia el arreglo original"
   ]
  },
  {
   "cell_type": "code",
   "execution_count": null,
   "id": "38544b79-1640-44e0-a214-755ca1e9ac87",
   "metadata": {},
   "outputs": [],
   "source": [
    "dataNumeros = [10, 15, 20, 7, 87, 65, 100, 1, 3]\n",
    "res =dataNumeros.toReversed()\n",
    "console.log(\"Notese como el arreglo dataNumeros original NO ha cambiado\", dataNumeros)\n",
    "console.log(\"Y este es el nuevo arreglo cuyo orden ha cambiado\" , resultado)"
   ]
  },
  {
   "cell_type": "markdown",
   "id": "9094f1fa-3a2c-4d60-9c2c-9b5c742b4491",
   "metadata": {},
   "source": [
    "## sort()\n",
    "Este metodo organiza de menor a mayor o de mayor a menor el array, sin embargo afecta al array original."
   ]
  },
  {
   "cell_type": "code",
   "execution_count": 7,
   "id": "26fb8986-70a1-4cac-8e5d-4b801cea6905",
   "metadata": {
    "scrolled": true
   },
   "outputs": [
    {
     "name": "stdout",
     "output_type": "stream",
     "text": [
      "Notese como el arreglo dataNumeros original  ha cambiado [\n",
      "   1,  3,  7,  10, 15,\n",
      "  20, 65, 87, 100\n",
      "]\n",
      "Y este es el resultado que arroja el método  [\n",
      "   1,  3,  7,  10, 15,\n",
      "  20, 65, 87, 100\n",
      "]\n"
     ]
    }
   ],
   "source": [
    "dataNumeros = [10, 15, 20, 7, 87, 65, 100, 1, 3]\n",
    "res =dataNumeros.sort((a,b)=>a-b)\n",
    "console.log(\"Notese como el arreglo dataNumeros original  ha cambiado\", dataNumeros)\n",
    "console.log(\"Y este es el resultado que arroja el método \", res)"
   ]
  },
  {
   "cell_type": "markdown",
   "id": "45111c41-91bf-4b34-91c6-ab9d6f635768",
   "metadata": {},
   "source": [
    "## toSorted() (node superior a V20)\n",
    "Este metodo organiza de menor a mayor o de mayor a menor el array, pero sin modificar el arreglo original"
   ]
  },
  {
   "cell_type": "code",
   "execution_count": null,
   "id": "112c9481-dc03-4c72-8f56-2f697c710f07",
   "metadata": {},
   "outputs": [],
   "source": [
    "dataNumeros = [10, 15, 20, 7, 87, 65, 100, 1, 3]\n",
    "res =dataNumeros.toSorted((a,b)=>a-b)\n",
    "console.log(\"Notese como el arreglo dataNumeros original NO ha cambiado\", dataNumeros)\n",
    "console.log(\"Y este es el resultado que arroja el metodo\", res)"
   ]
  },
  {
   "cell_type": "markdown",
   "id": "4f3d0784-c798-4c56-84f6-97d195186c20",
   "metadata": {},
   "source": [
    "## splice()\n",
    "El metodo splice quita elementos del arreglo y coloca nuevos elementos de ser necesario\r\n",
    "Sintaxis:\n",
    "\n",
    "`/array.splice(inicio,cuantos quito, [elem nuevo 1], [elemento nuevo 2]`)"
   ]
  },
  {
   "cell_type": "code",
   "execution_count": 10,
   "id": "9b5460ef-2805-442c-beb4-426a5726350c",
   "metadata": {},
   "outputs": [
    {
     "name": "stdout",
     "output_type": "stream",
     "text": [
      "el metodo devuelve los elementos eliminados [ 'Tarea 3' ]\n",
      "Y altera el array dataString original [ 'Tarea 1', 'Tarea 2', 'hola', 'mundo', 'Tarea 4' ]\n"
     ]
    }
   ],
   "source": [
    "dataString =['Tarea 1', 'Tarea 2', 'Tarea 3', 'Tarea 4']\n",
    "res =dataString.splice(2,1,'hola', 'mundo')\n",
    "console.log(\"el metodo devuelve los elementos eliminados\", res)\n",
    "console.log(\"Y altera el array dataString original\", dataString)\n"
   ]
  },
  {
   "cell_type": "markdown",
   "id": "5b62d138-d2aa-4c5f-ae94-1c6cb343f233",
   "metadata": {},
   "source": [
    "## toSpliced() (node superior a V20)\n",
    "Con el nuevo metodo, hace lo mismo que con splice pero no se altera el array riginal."
   ]
  },
  {
   "cell_type": "code",
   "execution_count": null,
   "id": "420c0246-463f-48a4-b40c-a4126d2c9f16",
   "metadata": {},
   "outputs": [],
   "source": [
    "dataString =['Tarea 1', 'Tarea 2', 'Tarea 3', 'Tarea 4']\n",
    "res =dataString.toSpliced(2,1,'hola', 'mundo')\n",
    "console.log(\"el metodo devuelve el nuevo vector con las modificaciones\", res)\n",
    "console.log(\"Y NO altera el array original, dataString\", dataString)"
   ]
  },
  {
   "cell_type": "markdown",
   "id": "0f14e0af-c223-469f-aab1-0d233f3ec40b",
   "metadata": {},
   "source": [
    "## with() (node supr)\n",
    "con with se logra agregar o cambiar elementos en un array pero sin afectar el original, miremos el ejemplo"
   ]
  },
  {
   "cell_type": "code",
   "execution_count": 2,
   "id": "76e04fd2-39a4-4381-908b-62738be33a84",
   "metadata": {},
   "outputs": [
    {
     "name": "stdout",
     "output_type": "stream",
     "text": [
      "Se a agregado la palabra hello al array original [ 'Tarea 1', 'Tarea 2', 'Tarea 3', 'helooooo' ]\n"
     ]
    },
    {
     "ename": "TypeError",
     "evalue": "dataString.with is not a function",
     "execution_count": 2,
     "output_type": "error",
     "traceback": [
      "evalmachine.<anonymous>:6",
      "res= dataString.with(3,'HOLA MUNDO')",
      "                    ^",
      "",
      "TypeError: dataString.with is not a function",
      "    at evalmachine.<anonymous>:6:21",
      "    at Script.runInThisContext (node:vm:129:12)",
      "    at Object.runInThisContext (node:vm:313:38)",
      "    at run ([eval]:1020:15)",
      "    at onRunRequest ([eval]:864:18)",
      "    at onMessage ([eval]:828:13)",
      "    at process.emit (node:events:513:28)",
      "    at emit (node:internal/child_process:946:14)",
      "    at processTicksAndRejections (node:internal/process/task_queues:84:21)"
     ]
    }
   ],
   "source": [
    "dataString =['Tarea 1', 'Tarea 2', 'Tarea 3', 'Tarea 4']\n",
    "dataString[3]='helooooo'\n",
    "console.log(\"Se a agregado la palabra hello al array original\", dataString)\n",
    "\n",
    "//con el metodo with crea una copia y no altera el original\n",
    "res= dataString.with(3,'HOLA MUNDO')\n",
    "console.log(\"Notese que el vector original no ha cambiado\", dataString)\n",
    "console.log(\"Y el nuevo array con su elemento incorporado\", res)"
   ]
  },
  {
   "cell_type": "code",
   "execution_count": 1,
   "id": "4788fd4c-ff8d-4cc9-b4ec-7cd289bc5364",
   "metadata": {},
   "outputs": [
    {
     "name": "stdout",
     "output_type": "stream",
     "text": [
      "Hola mundo\n"
     ]
    }
   ],
   "source": [
    "console.log(\"Hola mundo\")"
   ]
  },
  {
   "cell_type": "code",
   "execution_count": null,
   "id": "9ddf0825-aedb-467a-9720-cb0ed3f96742",
   "metadata": {},
   "outputs": [],
   "source": []
  }
 ],
 "metadata": {
  "kernelspec": {
   "display_name": "JavaScript (Node.js)",
   "language": "javascript",
   "name": "javascript"
  },
  "language_info": {
   "file_extension": ".js",
   "mimetype": "application/javascript",
   "name": "javascript",
   "version": "16.20.2"
  }
 },
 "nbformat": 4,
 "nbformat_minor": 5
}
