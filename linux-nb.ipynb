{
 "cells": [
  {
   "cell_type": "markdown",
   "id": "720de499-0f8f-403e-9bbe-9f5239418736",
   "metadata": {},
   "source": [
    "# Linux\n",
    "\n",
    "## Elementos básicos\n",
    "A continuación apuntes basicos de comandos linux.\n",
    "Estos son algunos comandos y apuntes relacionados, especialmente con el uso de la consola de linux.\n",
    "\n",
    "un diredtorio en linux en realidad es un archivo con información que lo convierte en directorio.\n",
    "\n",
    "En linux las extensiones de los archivos no son tan necesarias como si lo son en windows.\n",
    "\n",
    "La carpeta root es la carpeta de inicion (home) del usuario root, no confundir con la dirección root   `/`\n",
    "\n",
    "Los archivos y carpetas de los demás usuarios estaran en la carpeta `home`\n",
    "\n",
    "el directorio \n",
    "~/archivo.txt\n",
    "es acceder a /home/usuario/archivo.txt"
   ]
  },
  {
   "cell_type": "markdown",
   "id": "3b82f077-a9cb-498c-8f03-e49ccbe87625",
   "metadata": {},
   "source": [
    "## Sistema de archivos\n",
    "A continuacíón se listan los principales directorios de Linux (poco a poco se documentará cual es el principal tipo de información que guarda cada tipo de directorio.\n",
    "\n",
    "/bin /boot /dev /etc /home /lib /media /mnt /opt /sbin /root /temp /var\n",
    "\n",
    "- /root: es la carpeta de inicio del usuario root.\n",
    "\n",
    "- /home: acá están las carpetas de usuario (todas las carpetas de los diferntes usuarios linux estan en esta carpeta.\n",
    "\n"
   ]
  },
  {
   "cell_type": "markdown",
   "id": "dbecb787-135b-43e4-a3e4-ee0bdbcc5d1c",
   "metadata": {},
   "source": [
    "## Listar archivos y gestión de estos\n",
    "\n",
    "### Listar archivos\n",
    "```\n",
    "ls -l -p -a  -R --color\n",
    "```\n",
    "\n",
    "- -p marca los directorios con /\n",
    "- -a muestra los archivos ocultos (los que inician con .)\n",
    "- -l lo muestra conn muchas especificaciones\n",
    "- -R recursivo, muestra todos los archivos y directorios interiores\n",
    "\n",
    "### Notación de la información de los archivos\n",
    "\n",
    "-rwxr-xr-x     root root 4096 fecha archivo\n",
    "\n",
    "los permisos vienen en 3 bloques:\n",
    "bloque 1: Permisos propietario\n",
    "bloque 2: Permisos grupo\n",
    "bloque 3: demás usuarios\n",
    "\n",
    "x: permiso de ejecución\n",
    "r: permiso de lectura\n",
    "w: permiso de escritura\n",
    "\n",
    "si la cantidad de archivos son 2 o mas, significa que es un enlace fuerte, eso significa que es una copia de otro archivo su se cambia cualquiera de ellos habrá una afectación en todas las copias (esto es similar al concepto de sincronización)\n",
    "\n",
    "Los enlaces debiles funcionan de manera similar que un acceso directo, pero su comportamiento es similar al de un enlace fuette (me debo documentar mejor)\n",
    "\n",
    "### directorio actual\n",
    "```\n",
    "pwd\n",
    "```"
   ]
  },
  {
   "cell_type": "markdown",
   "id": "80902e02-a03d-47d9-9b28-8cd12a5af1b9",
   "metadata": {},
   "source": [
    "## crear un archivo\n",
    "```\n",
    "touch file.txt\n",
    "```\n",
    "### crear y/o editar un archivo (editor vim)\n",
    "```\n",
    "vim file.txt\n",
    "```\n",
    "### leer el contenido de un archivo desde la consola\n",
    "```\n",
    "cat file\n",
    "```\n",
    "### copiar un archivo\n",
    "```\n",
    "cp file-origin file-new\n",
    "cp file-origin directorio/file-origin\n",
    "```\n",
    "\n",
    "### mover un archivo\n",
    "(si la carpeta de destino es el mismo, este comando sirve para cambiar el nombre del arcivo)\n",
    "\n",
    "    mv file-origen directorio/\n",
    "    mv file-origen new-nama\n",
    "\n",
    "### Borrar un archivo o carpeta\n",
    "\n",
    "        rm file\n",
    "\n",
    "### Borrar un directorio con todos sus archivos\n",
    "        rm -r dir\n",
    "\n",
    "-r significa recursive"
   ]
  },
  {
   "cell_type": "markdown",
   "id": "f131dd10-42fb-45ad-8a53-9dc232f99477",
   "metadata": {},
   "source": [
    "## Ejecucion en segundo plano\n",
    "La ejecucion en segundo plano consiste en que se puede mantenr la ejecucion de algo en el background y se puede volver a esa ejecucion cuando se desee. Se usa el simbolo & para indicar que es una ejecucion en la cola\n",
    "```\n",
    "vim archivo.txt &\n",
    "```\n",
    "\n",
    "si algo se está ejectando y se quiere llevar a segundo plano se logra con la combinación `ctrl+z`\n",
    "\n",
    "### Detener un programa de manera forzada se logra con `ctrl+c`\n",
    "\n",
    "### Elegir cual ejecucion se coloca de foregruod (primer plano)\n",
    "```\n",
    "fg #  (siendo # el numero de la pila de ejecucion del programa, si se quiere el ultimo programa en ejecucion solo entonces se tipea fg)\n",
    "```"
   ]
  },
  {
   "cell_type": "markdown",
   "id": "6e2bfdb0-f82b-40c9-938c-62ae595cc9b5",
   "metadata": {},
   "source": [
    "## Enlaces fuertes y debiles\n",
    "\n",
    "### Enlaces fuertes\n",
    "Son uno o mas archivos que apuntan al mismo origen de datos, de tal manera que si uno cambia el otro tambien lo hace, se puede asociar al concepto de sincronización, por lo tanto todos los archivos enlazados ocupan la misma cantida de espacio\n",
    "\n",
    "        ln file-origin file-linked\n",
    "\n",
    "### Enlaces simbolicos\n",
    "Este se relaciona o asocia coo un enlace directo de windows, es decir el enlace debil guarda el nombre del archivo base, acceder al enlace debil te llva directamente al archivo origem. los enlaces debiles son de pequeño tamaño.\n",
    "\n",
    "        ln -s file-origen file-linked"
   ]
  },
  {
   "cell_type": "markdown",
   "id": "0ece8a7a-0758-4595-b91e-00d2d2624540",
   "metadata": {
    "jp-MarkdownHeadingCollapsed": true
   },
   "source": [
    "## Variables de entorno\n",
    "Estas se crean en el archivo ~/.bashrc\n",
    "una variable de entorno se crea en el archivo .bashrc de la siguiente manera\n",
    "\n",
    "        export NAME_VARIABLE=valor\n",
    "valor puede ser numerico, string bolleano etc\n",
    "\n",
    "Luego de editar el archivo se debe o bien reiniciar linux o pedir que se cargue el archivo de esta manera en consola\n",
    "\n",
    "        $ source ~/.bashrc\n",
    "\n",
    "Ver las rutas globales\n",
    "```\n",
    "echo $PATH\n",
    "```        \n",
    "\n",
    "Un uso por ejemplo de una variable de entorno es imprimirla en pantalla\n",
    "\n",
    "        $ echo $NAME_VARIABLE"
   ]
  }
 ],
 "metadata": {
  "kernelspec": {
   "display_name": "",
   "name": ""
  },
  "language_info": {
   "name": ""
  }
 },
 "nbformat": 4,
 "nbformat_minor": 5
}
