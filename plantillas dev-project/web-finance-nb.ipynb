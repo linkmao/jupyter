{
 "cells": [
  {
   "cell_type": "markdown",
   "id": "408c9a52-f402-41ba-b8fb-63e775602dc8",
   "metadata": {},
   "source": [
    "# Apuntes generales del proyectop web-finance"
   ]
  },
  {
   "cell_type": "markdown",
   "id": "e334a326-bdeb-42c0-9b72-e9af70fc81d8",
   "metadata": {},
   "source": [
    "## Inicio: 09 feb 2025\n",
    "Se inicia el desarrollo de la app web finance, en estos apuntes estaré consigando de manera muy informal algunos elementos tecnios, de diseño o en general lo que considere necesario para finalmente hacer un readme.md decente"
   ]
  }
 ],
 "metadata": {
  "kernelspec": {
   "display_name": "JavaScript (Node.js)",
   "language": "javascript",
   "name": "javascript"
  },
  "language_info": {
   "name": ""
  }
 },
 "nbformat": 4,
 "nbformat_minor": 5
}
